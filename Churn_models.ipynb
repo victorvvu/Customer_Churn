{
 "cells": [
  {
   "cell_type": "code",
   "execution_count": 1,
   "metadata": {},
   "outputs": [],
   "source": [
    "#Essentials\n",
    "import pandas as pd\n",
    "import numpy as np\n",
    "import matplotlib.pyplot as plt\n",
    "import seaborn as sns\n",
    "\n",
    "\n",
    "#Models\n",
    "from sklearn.linear_model import LogisticRegression\n",
    "import lightgbm as lgb\n",
    "from sklearn.ensemble import RandomForestClassifier\n",
    "import xgboost as xgb\n",
    "\n",
    "#Useful Libraries \n",
    "from sklearn.model_selection import train_test_split\n",
    "from sklearn.pipeline import Pipeline\n",
    "from sklearn.preprocessing import StandardScaler\n",
    "from imblearn.over_sampling import SMOTE\n",
    "from sklearn.preprocessing import MinMaxScaler\n",
    "\n",
    "from sklearn.model_selection import StratifiedKFold\n",
    "from sklearn.model_selection import cross_val_score\n",
    "from sklearn.model_selection import KFold\n",
    "#Evaluation \n",
    "from sklearn.metrics import plot_confusion_matrix\n",
    "from sklearn.metrics import classification_report, confusion_matrix, accuracy_score, recall_score, roc_auc_score, precision_score, precision_recall_curve, f1_score\n",
    "from sklearn.metrics import roc_curve, auc\n"
   ]
  },
  {
   "cell_type": "code",
   "execution_count": 2,
   "metadata": {},
   "outputs": [],
   "source": [
    "df = pd.read_csv(r'C:\\Users\\victo\\Desktop\\kaggle\\bank_churn\\BankChurners.csv')"
   ]
  },
  {
   "cell_type": "code",
   "execution_count": 3,
   "metadata": {},
   "outputs": [],
   "source": [
    "df.drop(columns = ['Naive_Bayes_Classifier_Attrition_Flag_Card_Category_Contacts_Count_12_mon_Dependent_count_Education_Level_Months_Inactive_12_mon_1',\n",
    "                          'Naive_Bayes_Classifier_Attrition_Flag_Card_Category_Contacts_Count_12_mon_Dependent_count_Education_Level_Months_Inactive_12_mon_2',\n",
    "                  'CLIENTNUM'],inplace=True)"
   ]
  },
  {
   "cell_type": "code",
   "execution_count": 4,
   "metadata": {},
   "outputs": [
    {
     "name": "stdout",
     "output_type": "stream",
     "text": [
      "Attrition_Flag\n",
      "Customer_Age\n",
      "Gender\n",
      "Dependent_count\n",
      "Education_Level\n",
      "Marital_Status\n",
      "Income_Category\n",
      "Card_Category\n",
      "Months_on_book\n",
      "Total_Relationship_Count\n",
      "Months_Inactive_12_mon\n",
      "Contacts_Count_12_mon\n",
      "Credit_Limit\n",
      "Total_Revolving_Bal\n",
      "Avg_Open_To_Buy\n",
      "Total_Amt_Chng_Q4_Q1\n",
      "Total_Trans_Amt\n",
      "Total_Trans_Ct\n",
      "Total_Ct_Chng_Q4_Q1\n",
      "Avg_Utilization_Ratio\n"
     ]
    }
   ],
   "source": [
    "for i in df.columns:\n",
    "    print(i)"
   ]
  },
  {
   "cell_type": "markdown",
   "metadata": {},
   "source": [
    "## Feature Engineering"
   ]
  },
  {
   "cell_type": "code",
   "execution_count": 5,
   "metadata": {},
   "outputs": [],
   "source": [
    "churn_map = {\"Existing Customer\": 0, \"Attrited Customer\":1}\n",
    "df.replace({\"Attrition_Flag\": churn_map},inplace=True)\n",
    "df.rename(columns = {'Attrition_Flag': 'y'},inplace=True)"
   ]
  },
  {
   "cell_type": "code",
   "execution_count": 6,
   "metadata": {},
   "outputs": [],
   "source": [
    "cols = ['Gender', 'Education_Level', 'Marital_Status', 'Income_Category', 'Card_Category']\n",
    "df= pd.get_dummies(df, columns = cols)\n",
    "df.drop(columns = ['Income_Category_Unknown','Marital_Status_Unknown','Education_Level_Unknown','Gender_F'],inplace=True)"
   ]
  },
  {
   "cell_type": "code",
   "execution_count": 7,
   "metadata": {},
   "outputs": [],
   "source": [
    "churn_map = {\"Existing Customer\": 0, \"Attrited Customer\":1}\n",
    "df.replace({\"Attrition_Flag\": churn_map},inplace=True)\n",
    "df.rename(columns = {'Attrition_Flag': 'y'},inplace=True)"
   ]
  },
  {
   "cell_type": "code",
   "execution_count": 8,
   "metadata": {},
   "outputs": [],
   "source": [
    "y = df['y']\n",
    "X = df.drop(columns='y')\n",
    "x_train, x_test, y_train, y_test = train_test_split(X, y, test_size=0.2, random_state=42,stratify=y)\n"
   ]
  },
  {
   "cell_type": "markdown",
   "metadata": {},
   "source": [
    "## SMOTE"
   ]
  },
  {
   "cell_type": "code",
   "execution_count": 9,
   "metadata": {},
   "outputs": [],
   "source": [
    "#best practice should've put it in a pipeline in sklearn \n",
    "SM = SMOTE(random_state=714)\n",
    "x_SM, y_SM = SM.fit_resample(x_train, y_train)\n",
    "scoring = {'AUC': 'roc_auc','precision':'precision','f1':'f1'} "
   ]
  },
  {
   "cell_type": "code",
   "execution_count": 10,
   "metadata": {},
   "outputs": [],
   "source": [
    "x_SM, x_sm_test, y_SM, y_sm_test = train_test_split(X, y, test_size=0.2, random_state=42,stratify=y)\n"
   ]
  },
  {
   "cell_type": "code",
   "execution_count": 15,
   "metadata": {},
   "outputs": [
    {
     "data": {
      "text/html": [
       "<div>\n",
       "<style scoped>\n",
       "    .dataframe tbody tr th:only-of-type {\n",
       "        vertical-align: middle;\n",
       "    }\n",
       "\n",
       "    .dataframe tbody tr th {\n",
       "        vertical-align: top;\n",
       "    }\n",
       "\n",
       "    .dataframe thead th {\n",
       "        text-align: right;\n",
       "    }\n",
       "</style>\n",
       "<table border=\"1\" class=\"dataframe\">\n",
       "  <thead>\n",
       "    <tr style=\"text-align: right;\">\n",
       "      <th></th>\n",
       "      <th>Customer_Age</th>\n",
       "      <th>Dependent_count</th>\n",
       "      <th>Months_on_book</th>\n",
       "      <th>Total_Relationship_Count</th>\n",
       "      <th>Months_Inactive_12_mon</th>\n",
       "      <th>Contacts_Count_12_mon</th>\n",
       "      <th>Credit_Limit</th>\n",
       "      <th>Total_Revolving_Bal</th>\n",
       "      <th>Avg_Open_To_Buy</th>\n",
       "      <th>Total_Amt_Chng_Q4_Q1</th>\n",
       "      <th>...</th>\n",
       "      <th>Marital_Status_Single</th>\n",
       "      <th>Income_Category_$120K +</th>\n",
       "      <th>Income_Category_$40K - $60K</th>\n",
       "      <th>Income_Category_$60K - $80K</th>\n",
       "      <th>Income_Category_$80K - $120K</th>\n",
       "      <th>Income_Category_Less than $40K</th>\n",
       "      <th>Card_Category_Blue</th>\n",
       "      <th>Card_Category_Gold</th>\n",
       "      <th>Card_Category_Platinum</th>\n",
       "      <th>Card_Category_Silver</th>\n",
       "    </tr>\n",
       "  </thead>\n",
       "  <tbody>\n",
       "    <tr>\n",
       "      <th>2856</th>\n",
       "      <td>36</td>\n",
       "      <td>0</td>\n",
       "      <td>24</td>\n",
       "      <td>4</td>\n",
       "      <td>3</td>\n",
       "      <td>2</td>\n",
       "      <td>2570.0</td>\n",
       "      <td>2230</td>\n",
       "      <td>340.0</td>\n",
       "      <td>0.686</td>\n",
       "      <td>...</td>\n",
       "      <td>0</td>\n",
       "      <td>0</td>\n",
       "      <td>0</td>\n",
       "      <td>0</td>\n",
       "      <td>0</td>\n",
       "      <td>1</td>\n",
       "      <td>1</td>\n",
       "      <td>0</td>\n",
       "      <td>0</td>\n",
       "      <td>0</td>\n",
       "    </tr>\n",
       "    <tr>\n",
       "      <th>6515</th>\n",
       "      <td>44</td>\n",
       "      <td>3</td>\n",
       "      <td>36</td>\n",
       "      <td>5</td>\n",
       "      <td>2</td>\n",
       "      <td>3</td>\n",
       "      <td>25276.0</td>\n",
       "      <td>0</td>\n",
       "      <td>25276.0</td>\n",
       "      <td>0.849</td>\n",
       "      <td>...</td>\n",
       "      <td>1</td>\n",
       "      <td>0</td>\n",
       "      <td>0</td>\n",
       "      <td>1</td>\n",
       "      <td>0</td>\n",
       "      <td>0</td>\n",
       "      <td>0</td>\n",
       "      <td>0</td>\n",
       "      <td>0</td>\n",
       "      <td>1</td>\n",
       "    </tr>\n",
       "    <tr>\n",
       "      <th>7141</th>\n",
       "      <td>46</td>\n",
       "      <td>2</td>\n",
       "      <td>30</td>\n",
       "      <td>6</td>\n",
       "      <td>3</td>\n",
       "      <td>1</td>\n",
       "      <td>11670.0</td>\n",
       "      <td>915</td>\n",
       "      <td>10755.0</td>\n",
       "      <td>0.892</td>\n",
       "      <td>...</td>\n",
       "      <td>0</td>\n",
       "      <td>0</td>\n",
       "      <td>0</td>\n",
       "      <td>0</td>\n",
       "      <td>1</td>\n",
       "      <td>0</td>\n",
       "      <td>1</td>\n",
       "      <td>0</td>\n",
       "      <td>0</td>\n",
       "      <td>0</td>\n",
       "    </tr>\n",
       "    <tr>\n",
       "      <th>632</th>\n",
       "      <td>36</td>\n",
       "      <td>2</td>\n",
       "      <td>24</td>\n",
       "      <td>3</td>\n",
       "      <td>1</td>\n",
       "      <td>3</td>\n",
       "      <td>3124.0</td>\n",
       "      <td>1593</td>\n",
       "      <td>1531.0</td>\n",
       "      <td>0.869</td>\n",
       "      <td>...</td>\n",
       "      <td>0</td>\n",
       "      <td>0</td>\n",
       "      <td>0</td>\n",
       "      <td>0</td>\n",
       "      <td>0</td>\n",
       "      <td>1</td>\n",
       "      <td>1</td>\n",
       "      <td>0</td>\n",
       "      <td>0</td>\n",
       "      <td>0</td>\n",
       "    </tr>\n",
       "    <tr>\n",
       "      <th>3496</th>\n",
       "      <td>50</td>\n",
       "      <td>1</td>\n",
       "      <td>40</td>\n",
       "      <td>4</td>\n",
       "      <td>2</td>\n",
       "      <td>3</td>\n",
       "      <td>34516.0</td>\n",
       "      <td>1185</td>\n",
       "      <td>33331.0</td>\n",
       "      <td>0.725</td>\n",
       "      <td>...</td>\n",
       "      <td>1</td>\n",
       "      <td>1</td>\n",
       "      <td>0</td>\n",
       "      <td>0</td>\n",
       "      <td>0</td>\n",
       "      <td>0</td>\n",
       "      <td>1</td>\n",
       "      <td>0</td>\n",
       "      <td>0</td>\n",
       "      <td>0</td>\n",
       "    </tr>\n",
       "  </tbody>\n",
       "</table>\n",
       "<p>5 rows × 33 columns</p>\n",
       "</div>"
      ],
      "text/plain": [
       "      Customer_Age  Dependent_count  Months_on_book  Total_Relationship_Count  \\\n",
       "2856            36                0              24                         4   \n",
       "6515            44                3              36                         5   \n",
       "7141            46                2              30                         6   \n",
       "632             36                2              24                         3   \n",
       "3496            50                1              40                         4   \n",
       "\n",
       "      Months_Inactive_12_mon  Contacts_Count_12_mon  Credit_Limit  \\\n",
       "2856                       3                      2        2570.0   \n",
       "6515                       2                      3       25276.0   \n",
       "7141                       3                      1       11670.0   \n",
       "632                        1                      3        3124.0   \n",
       "3496                       2                      3       34516.0   \n",
       "\n",
       "      Total_Revolving_Bal  Avg_Open_To_Buy  Total_Amt_Chng_Q4_Q1  ...  \\\n",
       "2856                 2230            340.0                 0.686  ...   \n",
       "6515                    0          25276.0                 0.849  ...   \n",
       "7141                  915          10755.0                 0.892  ...   \n",
       "632                  1593           1531.0                 0.869  ...   \n",
       "3496                 1185          33331.0                 0.725  ...   \n",
       "\n",
       "      Marital_Status_Single  Income_Category_$120K +  \\\n",
       "2856                      0                        0   \n",
       "6515                      1                        0   \n",
       "7141                      0                        0   \n",
       "632                       0                        0   \n",
       "3496                      1                        1   \n",
       "\n",
       "      Income_Category_$40K - $60K  Income_Category_$60K - $80K  \\\n",
       "2856                            0                            0   \n",
       "6515                            0                            1   \n",
       "7141                            0                            0   \n",
       "632                             0                            0   \n",
       "3496                            0                            0   \n",
       "\n",
       "      Income_Category_$80K - $120K  Income_Category_Less than $40K  \\\n",
       "2856                             0                               1   \n",
       "6515                             0                               0   \n",
       "7141                             1                               0   \n",
       "632                              0                               1   \n",
       "3496                             0                               0   \n",
       "\n",
       "      Card_Category_Blue  Card_Category_Gold  Card_Category_Platinum  \\\n",
       "2856                   1                   0                       0   \n",
       "6515                   0                   0                       0   \n",
       "7141                   1                   0                       0   \n",
       "632                    1                   0                       0   \n",
       "3496                   1                   0                       0   \n",
       "\n",
       "      Card_Category_Silver  \n",
       "2856                     0  \n",
       "6515                     1  \n",
       "7141                     0  \n",
       "632                      0  \n",
       "3496                     0  \n",
       "\n",
       "[5 rows x 33 columns]"
      ]
     },
     "execution_count": 15,
     "metadata": {},
     "output_type": "execute_result"
    }
   ],
   "source": [
    "x_SM.head()"
   ]
  },
  {
   "cell_type": "markdown",
   "metadata": {},
   "source": [
    "## Models"
   ]
  },
  {
   "cell_type": "code",
   "execution_count": 16,
   "metadata": {},
   "outputs": [],
   "source": [
    "#BASELINE smoteless clfer\n",
    "rf_params_no_sm = { 'class_weight':'balanced'}\n",
    "rf_no_sm_clfer = RandomForestClassifier(**rf_params_no_sm)"
   ]
  },
  {
   "cell_type": "code",
   "execution_count": 17,
   "metadata": {},
   "outputs": [],
   "source": [
    "#should've integrated pipeline with sklearn\n",
    "scaler = MinMaxScaler()\n",
    "\n",
    "x_train_log = scaler.fit_transform(x_SM)\n",
    "\n",
    "x_test_log = scaler.transform(x_test)"
   ]
  },
  {
   "cell_type": "code",
   "execution_count": 19,
   "metadata": {},
   "outputs": [],
   "source": [
    "xgb_params= {'booster': 'gbtree', 'lambda': 0.8510980791355207,\n",
    "             'alpha': 5.887029350317066e-08, 'subsample': 0.6131070998395973, \n",
    "             'colsample_bytree': 0.6900176269350642, 'learning_rate': 0.04334524528572498, \n",
    "             'max_depth': 8, 'gamma': 4.2724632731185067e-07, 'min_child_weight': 0.18379329253685098}\n",
    "\n",
    "lgb_params = {'objective': 'binary', 'metric': 'binary_logloss',\n",
    "              'verbosity': -1, 'boosting_type': 'gbdt',\n",
    "              'device_type': 'gpu', 'feature_pre_filter': False, \n",
    "              'num_leaves': 28, 'feature_fraction': 0.5, 'bagging_fraction': 0.768023517992883, \n",
    "              'bagging_freq': 5, 'min_child_samples': 20}\n",
    "\n",
    "rf_params = {'criterion': 'gini', 'n_estimators': 1130, 'max_depth': 3, 'max_features': 'sqrt'}\n",
    "\n",
    "xgb_sm_clfer =  xgb.XGBClassifier(**xgb_params)\n",
    "lgb_sm_clfer = lgb.LGBMClassifier(**lgb_params)\n",
    "log_clfer = LogisticRegression(solver='liblinear', random_state=0)"
   ]
  },
  {
   "cell_type": "code",
   "execution_count": 20,
   "metadata": {},
   "outputs": [
    {
     "name": "stdout",
     "output_type": "stream",
     "text": [
      "[0]\tvalidation_0-auc:0.95284\n",
      "Will train until validation_0-auc hasn't improved in 50 rounds.\n",
      "[1]\tvalidation_0-auc:0.95908\n",
      "[2]\tvalidation_0-auc:0.96671\n",
      "[3]\tvalidation_0-auc:0.96606\n",
      "[4]\tvalidation_0-auc:0.97162\n",
      "[5]\tvalidation_0-auc:0.97369\n",
      "[6]\tvalidation_0-auc:0.97183\n",
      "[7]\tvalidation_0-auc:0.97794\n",
      "[8]\tvalidation_0-auc:0.97697\n",
      "[9]\tvalidation_0-auc:0.97987\n",
      "[10]\tvalidation_0-auc:0.97969\n",
      "[11]\tvalidation_0-auc:0.98040\n",
      "[12]\tvalidation_0-auc:0.97949\n",
      "[13]\tvalidation_0-auc:0.97935\n",
      "[14]\tvalidation_0-auc:0.98082\n",
      "[15]\tvalidation_0-auc:0.98065\n",
      "[16]\tvalidation_0-auc:0.97988\n",
      "[17]\tvalidation_0-auc:0.97875\n",
      "[18]\tvalidation_0-auc:0.98176\n",
      "[19]\tvalidation_0-auc:0.98284\n",
      "[20]\tvalidation_0-auc:0.98377\n",
      "[21]\tvalidation_0-auc:0.98424\n",
      "[22]\tvalidation_0-auc:0.98458\n",
      "[23]\tvalidation_0-auc:0.98498\n",
      "[24]\tvalidation_0-auc:0.98511\n",
      "[25]\tvalidation_0-auc:0.98507\n",
      "[26]\tvalidation_0-auc:0.98525\n",
      "[27]\tvalidation_0-auc:0.98564\n",
      "[28]\tvalidation_0-auc:0.98537\n",
      "[29]\tvalidation_0-auc:0.98517\n",
      "[30]\tvalidation_0-auc:0.98558\n",
      "[31]\tvalidation_0-auc:0.98598\n",
      "[32]\tvalidation_0-auc:0.98565\n",
      "[33]\tvalidation_0-auc:0.98577\n",
      "[34]\tvalidation_0-auc:0.98629\n",
      "[35]\tvalidation_0-auc:0.98666\n",
      "[36]\tvalidation_0-auc:0.98678\n",
      "[37]\tvalidation_0-auc:0.98695\n",
      "[38]\tvalidation_0-auc:0.98698\n",
      "[39]\tvalidation_0-auc:0.98730\n",
      "[40]\tvalidation_0-auc:0.98738\n",
      "[41]\tvalidation_0-auc:0.98748\n",
      "[42]\tvalidation_0-auc:0.98730\n",
      "[43]\tvalidation_0-auc:0.98710\n",
      "[44]\tvalidation_0-auc:0.98731\n",
      "[45]\tvalidation_0-auc:0.98734\n",
      "[46]\tvalidation_0-auc:0.98748\n",
      "[47]\tvalidation_0-auc:0.98733\n",
      "[48]\tvalidation_0-auc:0.98743\n",
      "[49]\tvalidation_0-auc:0.98757\n",
      "[50]\tvalidation_0-auc:0.98765\n",
      "[51]\tvalidation_0-auc:0.98767\n",
      "[52]\tvalidation_0-auc:0.98783\n",
      "[53]\tvalidation_0-auc:0.98795\n",
      "[54]\tvalidation_0-auc:0.98794\n",
      "[55]\tvalidation_0-auc:0.98790\n",
      "[56]\tvalidation_0-auc:0.98814\n",
      "[57]\tvalidation_0-auc:0.98844\n",
      "[58]\tvalidation_0-auc:0.98869\n",
      "[59]\tvalidation_0-auc:0.98900\n",
      "[60]\tvalidation_0-auc:0.98910\n",
      "[61]\tvalidation_0-auc:0.98940\n",
      "[62]\tvalidation_0-auc:0.98965\n",
      "[63]\tvalidation_0-auc:0.98954\n",
      "[64]\tvalidation_0-auc:0.98948\n",
      "[65]\tvalidation_0-auc:0.98940\n",
      "[66]\tvalidation_0-auc:0.98934\n",
      "[67]\tvalidation_0-auc:0.98960\n",
      "[68]\tvalidation_0-auc:0.98969\n",
      "[69]\tvalidation_0-auc:0.98965\n",
      "[70]\tvalidation_0-auc:0.98991\n",
      "[71]\tvalidation_0-auc:0.99001\n",
      "[72]\tvalidation_0-auc:0.99023\n",
      "[73]\tvalidation_0-auc:0.99028\n",
      "[74]\tvalidation_0-auc:0.99032\n",
      "[75]\tvalidation_0-auc:0.99023\n",
      "[76]\tvalidation_0-auc:0.99018\n",
      "[77]\tvalidation_0-auc:0.99001\n",
      "[78]\tvalidation_0-auc:0.99002\n",
      "[79]\tvalidation_0-auc:0.99017\n",
      "[80]\tvalidation_0-auc:0.99024\n",
      "[81]\tvalidation_0-auc:0.99021\n",
      "[82]\tvalidation_0-auc:0.99031\n",
      "[83]\tvalidation_0-auc:0.99044\n",
      "[84]\tvalidation_0-auc:0.99055\n",
      "[85]\tvalidation_0-auc:0.99077\n",
      "[86]\tvalidation_0-auc:0.99074\n",
      "[87]\tvalidation_0-auc:0.99082\n",
      "[88]\tvalidation_0-auc:0.99085\n",
      "[89]\tvalidation_0-auc:0.99091\n",
      "[90]\tvalidation_0-auc:0.99109\n",
      "[91]\tvalidation_0-auc:0.99111\n",
      "[92]\tvalidation_0-auc:0.99113\n",
      "[93]\tvalidation_0-auc:0.99116\n",
      "[94]\tvalidation_0-auc:0.99118\n",
      "[95]\tvalidation_0-auc:0.99119\n",
      "[96]\tvalidation_0-auc:0.99120\n",
      "[97]\tvalidation_0-auc:0.99118\n",
      "[98]\tvalidation_0-auc:0.99126\n",
      "[99]\tvalidation_0-auc:0.99130\n",
      "[LightGBM] [Warning] feature_fraction is set=0.5, colsample_bytree=1.0 will be ignored. Current value: feature_fraction=0.5\n",
      "[LightGBM] [Warning] bagging_fraction is set=0.768023517992883, subsample=1.0 will be ignored. Current value: bagging_fraction=0.768023517992883\n",
      "[LightGBM] [Warning] bagging_freq is set=5, subsample_freq=0 will be ignored. Current value: bagging_freq=5\n",
      "[1]\tvalid_0's auc: 0.947619\tvalid_0's binary_logloss: 0.382615\n",
      "Training until validation scores don't improve for 50 rounds\n",
      "[2]\tvalid_0's auc: 0.955085\tvalid_0's binary_logloss: 0.359009\n",
      "[3]\tvalid_0's auc: 0.962474\tvalid_0's binary_logloss: 0.330826\n",
      "[4]\tvalid_0's auc: 0.966699\tvalid_0's binary_logloss: 0.313966\n",
      "[5]\tvalid_0's auc: 0.974593\tvalid_0's binary_logloss: 0.287435\n",
      "[6]\tvalid_0's auc: 0.974151\tvalid_0's binary_logloss: 0.27384\n",
      "[7]\tvalid_0's auc: 0.979064\tvalid_0's binary_logloss: 0.253632\n",
      "[8]\tvalid_0's auc: 0.978347\tvalid_0's binary_logloss: 0.244092\n",
      "[9]\tvalid_0's auc: 0.979775\tvalid_0's binary_logloss: 0.230863\n",
      "[10]\tvalid_0's auc: 0.979674\tvalid_0's binary_logloss: 0.224933\n",
      "[11]\tvalid_0's auc: 0.978591\tvalid_0's binary_logloss: 0.216217\n",
      "[12]\tvalid_0's auc: 0.980188\tvalid_0's binary_logloss: 0.204482\n",
      "[13]\tvalid_0's auc: 0.979187\tvalid_0's binary_logloss: 0.198421\n",
      "[14]\tvalid_0's auc: 0.980827\tvalid_0's binary_logloss: 0.190043\n",
      "[15]\tvalid_0's auc: 0.980698\tvalid_0's binary_logloss: 0.18608\n",
      "[16]\tvalid_0's auc: 0.983541\tvalid_0's binary_logloss: 0.17606\n",
      "[17]\tvalid_0's auc: 0.982781\tvalid_0's binary_logloss: 0.17197\n",
      "[18]\tvalid_0's auc: 0.982434\tvalid_0's binary_logloss: 0.169337\n",
      "[19]\tvalid_0's auc: 0.983895\tvalid_0's binary_logloss: 0.162225\n",
      "[20]\tvalid_0's auc: 0.983793\tvalid_0's binary_logloss: 0.160112\n",
      "[21]\tvalid_0's auc: 0.983743\tvalid_0's binary_logloss: 0.158415\n",
      "[22]\tvalid_0's auc: 0.985372\tvalid_0's binary_logloss: 0.151262\n",
      "[23]\tvalid_0's auc: 0.986518\tvalid_0's binary_logloss: 0.14541\n",
      "[24]\tvalid_0's auc: 0.987345\tvalid_0's binary_logloss: 0.140244\n",
      "[25]\tvalid_0's auc: 0.987575\tvalid_0's binary_logloss: 0.136205\n",
      "[26]\tvalid_0's auc: 0.987501\tvalid_0's binary_logloss: 0.135013\n",
      "[27]\tvalid_0's auc: 0.98794\tvalid_0's binary_logloss: 0.131597\n",
      "[28]\tvalid_0's auc: 0.988222\tvalid_0's binary_logloss: 0.128839\n",
      "[29]\tvalid_0's auc: 0.988537\tvalid_0's binary_logloss: 0.126719\n",
      "[30]\tvalid_0's auc: 0.988506\tvalid_0's binary_logloss: 0.125541\n",
      "[31]\tvalid_0's auc: 0.988512\tvalid_0's binary_logloss: 0.124569\n",
      "[32]\tvalid_0's auc: 0.988821\tvalid_0's binary_logloss: 0.121753\n",
      "[33]\tvalid_0's auc: 0.988647\tvalid_0's binary_logloss: 0.120833\n",
      "[34]\tvalid_0's auc: 0.988638\tvalid_0's binary_logloss: 0.119573\n",
      "[35]\tvalid_0's auc: 0.98855\tvalid_0's binary_logloss: 0.118562\n",
      "[36]\tvalid_0's auc: 0.989062\tvalid_0's binary_logloss: 0.115374\n",
      "[37]\tvalid_0's auc: 0.989633\tvalid_0's binary_logloss: 0.11242\n",
      "[38]\tvalid_0's auc: 0.989479\tvalid_0's binary_logloss: 0.111826\n",
      "[39]\tvalid_0's auc: 0.989595\tvalid_0's binary_logloss: 0.110143\n",
      "[40]\tvalid_0's auc: 0.989997\tvalid_0's binary_logloss: 0.107987\n",
      "[41]\tvalid_0's auc: 0.990355\tvalid_0's binary_logloss: 0.105656\n",
      "[42]\tvalid_0's auc: 0.990478\tvalid_0's binary_logloss: 0.104987\n",
      "[43]\tvalid_0's auc: 0.990505\tvalid_0's binary_logloss: 0.104433\n",
      "[44]\tvalid_0's auc: 0.990435\tvalid_0's binary_logloss: 0.103699\n",
      "[45]\tvalid_0's auc: 0.990492\tvalid_0's binary_logloss: 0.102789\n",
      "[46]\tvalid_0's auc: 0.990677\tvalid_0's binary_logloss: 0.100861\n",
      "[47]\tvalid_0's auc: 0.990617\tvalid_0's binary_logloss: 0.100489\n",
      "[48]\tvalid_0's auc: 0.990823\tvalid_0's binary_logloss: 0.0986726\n",
      "[49]\tvalid_0's auc: 0.990746\tvalid_0's binary_logloss: 0.0985945\n",
      "[50]\tvalid_0's auc: 0.990746\tvalid_0's binary_logloss: 0.0983298\n",
      "[51]\tvalid_0's auc: 0.990919\tvalid_0's binary_logloss: 0.0969757\n",
      "[52]\tvalid_0's auc: 0.990758\tvalid_0's binary_logloss: 0.0970514\n",
      "[53]\tvalid_0's auc: 0.990766\tvalid_0's binary_logloss: 0.0963634\n",
      "[54]\tvalid_0's auc: 0.990816\tvalid_0's binary_logloss: 0.0961366\n",
      "[55]\tvalid_0's auc: 0.990861\tvalid_0's binary_logloss: 0.0951703\n",
      "[56]\tvalid_0's auc: 0.990997\tvalid_0's binary_logloss: 0.0936973\n",
      "[57]\tvalid_0's auc: 0.991118\tvalid_0's binary_logloss: 0.0923647\n",
      "[58]\tvalid_0's auc: 0.9911\tvalid_0's binary_logloss: 0.0920867\n",
      "[59]\tvalid_0's auc: 0.991158\tvalid_0's binary_logloss: 0.0918429\n",
      "[60]\tvalid_0's auc: 0.991272\tvalid_0's binary_logloss: 0.0911859\n",
      "[61]\tvalid_0's auc: 0.991236\tvalid_0's binary_logloss: 0.0910283\n",
      "[62]\tvalid_0's auc: 0.991404\tvalid_0's binary_logloss: 0.0901583\n",
      "[63]\tvalid_0's auc: 0.991352\tvalid_0's binary_logloss: 0.0899873\n",
      "[64]\tvalid_0's auc: 0.991334\tvalid_0's binary_logloss: 0.0897107\n",
      "[65]\tvalid_0's auc: 0.99137\tvalid_0's binary_logloss: 0.0892691\n",
      "[66]\tvalid_0's auc: 0.991312\tvalid_0's binary_logloss: 0.0892858\n",
      "[67]\tvalid_0's auc: 0.991303\tvalid_0's binary_logloss: 0.0890525\n",
      "[68]\tvalid_0's auc: 0.991596\tvalid_0's binary_logloss: 0.0879682\n",
      "[69]\tvalid_0's auc: 0.991637\tvalid_0's binary_logloss: 0.0873745\n",
      "[70]\tvalid_0's auc: 0.99169\tvalid_0's binary_logloss: 0.0869319\n",
      "[71]\tvalid_0's auc: 0.991661\tvalid_0's binary_logloss: 0.0869968\n",
      "[72]\tvalid_0's auc: 0.991704\tvalid_0's binary_logloss: 0.0864482\n",
      "[73]\tvalid_0's auc: 0.991708\tvalid_0's binary_logloss: 0.0866955\n",
      "[74]\tvalid_0's auc: 0.99186\tvalid_0's binary_logloss: 0.0858414\n",
      "[75]\tvalid_0's auc: 0.991891\tvalid_0's binary_logloss: 0.085636\n",
      "[76]\tvalid_0's auc: 0.991874\tvalid_0's binary_logloss: 0.085392\n",
      "[77]\tvalid_0's auc: 0.991808\tvalid_0's binary_logloss: 0.0854288\n",
      "[78]\tvalid_0's auc: 0.991795\tvalid_0's binary_logloss: 0.0853432\n",
      "[79]\tvalid_0's auc: 0.991849\tvalid_0's binary_logloss: 0.085139\n",
      "[80]\tvalid_0's auc: 0.992005\tvalid_0's binary_logloss: 0.0840969\n",
      "[81]\tvalid_0's auc: 0.992041\tvalid_0's binary_logloss: 0.0836724\n",
      "[82]\tvalid_0's auc: 0.991988\tvalid_0's binary_logloss: 0.0836493\n",
      "[83]\tvalid_0's auc: 0.991929\tvalid_0's binary_logloss: 0.0837918\n",
      "[84]\tvalid_0's auc: 0.991889\tvalid_0's binary_logloss: 0.0837123\n",
      "[85]\tvalid_0's auc: 0.991974\tvalid_0's binary_logloss: 0.0833019\n",
      "[86]\tvalid_0's auc: 0.992017\tvalid_0's binary_logloss: 0.0826052\n",
      "[87]\tvalid_0's auc: 0.992021\tvalid_0's binary_logloss: 0.0824099\n",
      "[88]\tvalid_0's auc: 0.992039\tvalid_0's binary_logloss: 0.0821875\n",
      "[89]\tvalid_0's auc: 0.992191\tvalid_0's binary_logloss: 0.0814226\n",
      "[90]\tvalid_0's auc: 0.992157\tvalid_0's binary_logloss: 0.0813951\n",
      "[91]\tvalid_0's auc: 0.992035\tvalid_0's binary_logloss: 0.0816928\n",
      "[92]\tvalid_0's auc: 0.992026\tvalid_0's binary_logloss: 0.0817172\n",
      "[93]\tvalid_0's auc: 0.991943\tvalid_0's binary_logloss: 0.0816536\n",
      "[94]\tvalid_0's auc: 0.992017\tvalid_0's binary_logloss: 0.0816727\n",
      "[95]\tvalid_0's auc: 0.991967\tvalid_0's binary_logloss: 0.0817906\n",
      "[96]\tvalid_0's auc: 0.991958\tvalid_0's binary_logloss: 0.0816678\n",
      "[97]\tvalid_0's auc: 0.992128\tvalid_0's binary_logloss: 0.0811724\n",
      "[98]\tvalid_0's auc: 0.992119\tvalid_0's binary_logloss: 0.0811919\n",
      "[99]\tvalid_0's auc: 0.992238\tvalid_0's binary_logloss: 0.0805585\n",
      "[100]\tvalid_0's auc: 0.992321\tvalid_0's binary_logloss: 0.0802187\n",
      "Did not meet early stopping. Best iteration is:\n",
      "[100]\tvalid_0's auc: 0.992321\tvalid_0's binary_logloss: 0.0802187\n"
     ]
    },
    {
     "data": {
      "text/plain": [
       "LogisticRegression(random_state=0, solver='liblinear')"
      ]
     },
     "execution_count": 20,
     "metadata": {},
     "output_type": "execute_result"
    }
   ],
   "source": [
    "xgb_sm_clfer.fit(x_SM, y_SM, early_stopping_rounds=50, eval_metric=\"auc\",\n",
    "        eval_set=[(x_sm_test, y_sm_test)])\n",
    "\n",
    "lgb_sm_clfer.fit(x_SM, y_SM,eval_set=[(x_sm_test, y_sm_test)],early_stopping_rounds=50,eval_metric=['auc'])\n",
    "rf_no_sm_clfer.fit(x_train,y_train)\n",
    "log_clfer.fit(x_SM,y_SM)"
   ]
  },
  {
   "cell_type": "code",
   "execution_count": 21,
   "metadata": {},
   "outputs": [],
   "source": [
    "best_xgb_iter = xgb_sm_clfer.get_booster().best_ntree_limit"
   ]
  },
  {
   "cell_type": "code",
   "execution_count": 22,
   "metadata": {},
   "outputs": [],
   "source": [
    "xgb_preds = xgb_sm_clfer.predict_proba(x_test,ntree_limit=best_xgb_iter)[:, 1]\n",
    "lgb_preds = lgb_sm_clfer.predict_proba(x_test)[:, 1]\n",
    "rf_no_sm_preds = rf_no_sm_clfer.predict_proba(x_test)[:, 1]\n",
    "log_preds = log_clfer.predict_proba(x_test_log)[:, 1]\n"
   ]
  },
  {
   "cell_type": "code",
   "execution_count": 23,
   "metadata": {},
   "outputs": [],
   "source": [
    "xgb_fpr, xgb_tpr, xgb_threshold = roc_curve(y_test, xgb_preds)\n",
    "lgb_fpr, lgb_tpr, lgb_threshold = roc_curve(y_test, lgb_preds)\n",
    "rf_no_sm_fpr, rf_no_sm_tpr, rf_no_sm_threshold = roc_curve(y_test, rf_no_sm_preds)\n",
    "log_fpr, log_tpr, lgb_threshold = roc_curve(y_test, log_preds)\n"
   ]
  },
  {
   "cell_type": "code",
   "execution_count": 24,
   "metadata": {},
   "outputs": [],
   "source": [
    "xgb_auc = roc_auc_score(y_test, xgb_preds)\n",
    "lgb_auc = roc_auc_score(y_test, xgb_preds)\n",
    "rf_no_sm_auc = roc_auc_score(y_test, rf_no_sm_preds)\n",
    "log_auc = roc_auc_score(y_test, log_preds)\n"
   ]
  },
  {
   "cell_type": "code",
   "execution_count": 25,
   "metadata": {},
   "outputs": [
    {
     "name": "stdout",
     "output_type": "stream",
     "text": [
      "0.991301044634378\n",
      "0.991301044634378\n",
      "0.9836268258490481\n",
      "0.6770370370370371\n"
     ]
    }
   ],
   "source": [
    "print(lgb_auc)\n",
    "print(xgb_auc)\n",
    "print(rf_no_sm_auc)\n",
    "print(log_auc)\n"
   ]
  },
  {
   "cell_type": "code",
   "execution_count": 26,
   "metadata": {},
   "outputs": [
    {
     "data": {
      "text/plain": [
       "<matplotlib.legend.Legend at 0x1c849a46340>"
      ]
     },
     "execution_count": 26,
     "metadata": {},
     "output_type": "execute_result"
    },
    {
     "data": {
      "image/png": "[encoded data removed]",
      "text/plain": [
       "<Figure size 432x288 with 1 Axes>"
      ]
     },
     "metadata": {
      "needs_background": "light"
     },
     "output_type": "display_data"
    }
   ],
   "source": [
    "plt.title('ROC on Classifiers')\n",
    "plt.xlabel(\"False Positive Rate\")\n",
    "plt.ylabel(\"True Positive Rate\")\n",
    "plt.plot(xgb_fpr,xgb_tpr,linestyle='--', label = 'XGBoost Classifier: (AUC = %.3f)'%  xgb_auc)\n",
    "plt.plot(lgb_fpr,lgb_tpr,linestyle='--', label = 'LGB Classifier: (AUC = %.3f)'%  lgb_auc)\n",
    "plt.plot(rf_no_sm_fpr,rf_no_sm_tpr,linestyle='--', label = 'Random Forest No SMOTE Classifier: (AUC = %.3f)'%  rf_no_sm_auc)\n",
    "plt.plot(log_fpr,log_tpr,linestyle='--', label = 'Logistic Regression Classifier: (AUC = %.3f)'%  log_auc)\n",
    "\n",
    "plt.legend()\n"
   ]
  },
  {
   "cell_type": "code",
   "execution_count": 27,
   "metadata": {},
   "outputs": [
    {
     "data": {
      "text/plain": [
       "<AxesSubplot:title={'center':'Feature importance'}, xlabel='F score', ylabel='Features'>"
      ]
     },
     "execution_count": 27,
     "metadata": {},
     "output_type": "execute_result"
    },
    {
     "data": {
      "image/png": "[encoded data removed]",
      "text/plain": [
       "<Figure size 576x576 with 1 Axes>"
      ]
     },
     "metadata": {
      "needs_background": "light"
     },
     "output_type": "display_data"
    }
   ],
   "source": [
    "fig, ax = plt.subplots(1,1,figsize=(8,8))\n",
    "xgb.plot_importance(xgb_sm_clfer, max_num_features=10, ax=ax,grid=False)"
   ]
  },
  {
   "cell_type": "code",
   "execution_count": 28,
   "metadata": {},
   "outputs": [],
   "source": [
    "clfers = {'XGB SMOTE': xgb_sm_clfer, 'Random Forest w/o SMOTE' : rf_no_sm_clfer, 'LGB SMOTE': xgb_sm_clfer,\n",
    "         'Logistic Classifier': log_clfer}\n",
    "\n",
    "def show_metrics(clfs,x_test, y_test):\n",
    "    group_names = [\"True Neg\",\"False Pos\",\"False Neg\",\"True Pos\"]\n",
    "\n",
    "    for key, val in clfs.items():\n",
    "        print(key)\n",
    "        y_pred = val.predict(x_test)\n",
    "        sns.heatmap((confusion_matrix(y_pred,y_test)),annot= True,cmap='Blues',fmt='g',cbar=False)\n",
    "        plt.xlabel(\"Predicted\")\n",
    "        plt.ylabel('True')\n",
    "        plt.show()\n",
    "        print(f'{classification_report(y_pred,y_test)}')"
   ]
  },
  {
   "cell_type": "code",
   "execution_count": 29,
   "metadata": {},
   "outputs": [],
   "source": [
    "def df_scores(clfs,x_test, y_test):\n",
    "    group_names = [\"True Neg\",\"False Pos\",\"False Neg\",\"True Pos\"]\n",
    "    precision = []\n",
    "    recall = []\n",
    "    f1 = []\n",
    "    index = []\n",
    "    df= pd.DataFrame()\n",
    "    for key, val in clfs.items():\n",
    "        index.append(key)\n",
    "        y_pred = val.predict(x_test)\n",
    "        f1_ = f1_score(y_pred,y_test)\n",
    "        f1.append(f1_)  \n",
    "        \n",
    "        precision_ = precision_score(y_pred,y_test)\n",
    "        precision.append(precision_) \n",
    "        \n",
    "        recall_ = recall_score(y_pred,y_test)\n",
    "        recall.append(recall_) \n",
    "    df['F1'] = f1\n",
    "    df['Precision'] = precision\n",
    "    df['Recall'] = recall\n",
    "    df['Models'] = index\n",
    "    df.set_index('Models',inplace=True)\n",
    "    return df\n",
    "df_scores = df_scores(clfers,x_test,y_test)    "
   ]
  },
  {
   "cell_type": "code",
   "execution_count": 30,
   "metadata": {},
   "outputs": [
    {
     "name": "stdout",
     "output_type": "stream",
     "text": [
      "XGB SMOTE\n"
     ]
    },
    {
     "data": {
      "image/png": "[encoded data removed]",
      "text/plain": [
       "<Figure size 432x288 with 1 Axes>"
      ]
     },
     "metadata": {
      "needs_background": "light"
     },
     "output_type": "display_data"
    },
    {
     "name": "stdout",
     "output_type": "stream",
     "text": [
      "              precision    recall  f1-score   support\n",
      "\n",
      "           0       0.99      0.97      0.98      1745\n",
      "           1       0.83      0.96      0.89       281\n",
      "\n",
      "    accuracy                           0.97      2026\n",
      "   macro avg       0.91      0.96      0.94      2026\n",
      "weighted avg       0.97      0.97      0.97      2026\n",
      "\n",
      "Random Forest w/o SMOTE\n"
     ]
    },
    {
     "data": {
      "image/png": "[encoded data removed]",
      "text/plain": [
       "<Figure size 432x288 with 1 Axes>"
      ]
     },
     "metadata": {
      "needs_background": "light"
     },
     "output_type": "display_data"
    },
    {
     "name": "stdout",
     "output_type": "stream",
     "text": [
      "              precision    recall  f1-score   support\n",
      "\n",
      "           0       0.99      0.95      0.97      1770\n",
      "           1       0.74      0.93      0.82       256\n",
      "\n",
      "    accuracy                           0.95      2026\n",
      "   macro avg       0.86      0.94      0.90      2026\n",
      "weighted avg       0.96      0.95      0.95      2026\n",
      "\n",
      "LGB SMOTE\n"
     ]
    },
    {
     "data": {
      "image/png": "[encoded data removed]",
      "text/plain": [
       "<Figure size 432x288 with 1 Axes>"
      ]
     },
     "metadata": {
      "needs_background": "light"
     },
     "output_type": "display_data"
    },
    {
     "name": "stdout",
     "output_type": "stream",
     "text": [
      "              precision    recall  f1-score   support\n",
      "\n",
      "           0       0.99      0.97      0.98      1745\n",
      "           1       0.83      0.96      0.89       281\n",
      "\n",
      "    accuracy                           0.97      2026\n",
      "   macro avg       0.91      0.96      0.94      2026\n",
      "weighted avg       0.97      0.97      0.97      2026\n",
      "\n",
      "Logistic Classifier\n"
     ]
    },
    {
     "data": {
      "image/png": "[encoded data removed]",
      "text/plain": [
       "<Figure size 432x288 with 1 Axes>"
      ]
     },
     "metadata": {
      "needs_background": "light"
     },
     "output_type": "display_data"
    },
    {
     "name": "stdout",
     "output_type": "stream",
     "text": [
      "              precision    recall  f1-score   support\n",
      "\n",
      "           0       0.97      0.90      0.94      1825\n",
      "           1       0.46      0.75      0.57       201\n",
      "\n",
      "    accuracy                           0.89      2026\n",
      "   macro avg       0.72      0.83      0.75      2026\n",
      "weighted avg       0.92      0.89      0.90      2026\n",
      "\n"
     ]
    }
   ],
   "source": [
    "show_metrics(clfers,x_test,y_test)       "
   ]
  },
  {
   "cell_type": "code",
   "execution_count": 31,
   "metadata": {},
   "outputs": [
    {
     "data": {
      "text/html": [
       "<div>\n",
       "<style scoped>\n",
       "    .dataframe tbody tr th:only-of-type {\n",
       "        vertical-align: middle;\n",
       "    }\n",
       "\n",
       "    .dataframe tbody tr th {\n",
       "        vertical-align: top;\n",
       "    }\n",
       "\n",
       "    .dataframe thead th {\n",
       "        text-align: right;\n",
       "    }\n",
       "</style>\n",
       "<table border=\"1\" class=\"dataframe\">\n",
       "  <thead>\n",
       "    <tr style=\"text-align: right;\">\n",
       "      <th></th>\n",
       "      <th>F1</th>\n",
       "      <th>Precision</th>\n",
       "      <th>Recall</th>\n",
       "    </tr>\n",
       "    <tr>\n",
       "      <th>Models</th>\n",
       "      <th></th>\n",
       "      <th></th>\n",
       "      <th></th>\n",
       "    </tr>\n",
       "  </thead>\n",
       "  <tbody>\n",
       "    <tr>\n",
       "      <th>XGB SMOTE</th>\n",
       "      <td>0.891089</td>\n",
       "      <td>0.830769</td>\n",
       "      <td>0.960854</td>\n",
       "    </tr>\n",
       "    <tr>\n",
       "      <th>Random Forest w/o SMOTE</th>\n",
       "      <td>0.822719</td>\n",
       "      <td>0.735385</td>\n",
       "      <td>0.933594</td>\n",
       "    </tr>\n",
       "    <tr>\n",
       "      <th>LGB SMOTE</th>\n",
       "      <td>0.891089</td>\n",
       "      <td>0.830769</td>\n",
       "      <td>0.960854</td>\n",
       "    </tr>\n",
       "    <tr>\n",
       "      <th>Logistic Classifier</th>\n",
       "      <td>0.570342</td>\n",
       "      <td>0.461538</td>\n",
       "      <td>0.746269</td>\n",
       "    </tr>\n",
       "  </tbody>\n",
       "</table>\n",
       "</div>"
      ],
      "text/plain": [
       "                               F1  Precision    Recall\n",
       "Models                                                \n",
       "XGB SMOTE                0.891089   0.830769  0.960854\n",
       "Random Forest w/o SMOTE  0.822719   0.735385  0.933594\n",
       "LGB SMOTE                0.891089   0.830769  0.960854\n",
       "Logistic Classifier      0.570342   0.461538  0.746269"
      ]
     },
     "execution_count": 31,
     "metadata": {},
     "output_type": "execute_result"
    }
   ],
   "source": [
    "df_scores"
   ]
  },
  {
   "cell_type": "markdown",
   "metadata": {},
   "source": [
    "## Optuna (Hyperparamter Search)"
   ]
  },
  {
   "cell_type": "code",
   "execution_count": 51,
   "metadata": {},
   "outputs": [],
   "source": [
    "import optuna"
   ]
  },
  {
   "cell_type": "code",
   "execution_count": 54,
   "metadata": {},
   "outputs": [],
   "source": [
    "from sklearn.metrics import log_loss\n",
    "def objective(trial):\n",
    "    criterion = trial.suggest_categorical('criterion', ['gini','entropy'])\n",
    "    n_estimators = trial.suggest_int('n_estimators', 100, 1500)\n",
    "    max_depth = trial.suggest_int('max_depth', 3, 12)\n",
    "    max_features = trial.suggest_categorical('max_features', ['auto', 'sqrt'])\n",
    "    \n",
    "    model = RandomForestClassifier(n_estimators =n_estimators, max_depth = max_depth, max_features=max_features,criterion =criterion)\n",
    "    \n",
    "    cross_val = cross_val_score(model, x_SM, y_SM, n_jobs=-1, cv=3,scoring= 'neg_log_loss')\n",
    "    score = cross_val.mean()\n",
    "    return score"
   ]
  },
  {
   "cell_type": "code",
   "execution_count": 55,
   "metadata": {},
   "outputs": [
    {
     "name": "stderr",
     "output_type": "stream",
     "text": [
      "\u001b[32m[I 2021-10-25 21:53:55,833]\u001b[0m A new study created in memory with name: no-name-3682088f-2b89-4267-9522-c972db253271\u001b[0m\n",
      "\u001b[32m[I 2021-10-25 21:54:04,084]\u001b[0m Trial 0 finished with value: -0.2688357719255417 and parameters: {'criterion': 'gini', 'n_estimators': 1090, 'max_depth': 6, 'max_features': 'auto'}. Best is trial 0 with value: -0.2688357719255417.\u001b[0m\n",
      "\u001b[32m[I 2021-10-25 21:54:15,058]\u001b[0m Trial 1 finished with value: -0.15296652412212083 and parameters: {'criterion': 'entropy', 'n_estimators': 942, 'max_depth': 11, 'max_features': 'auto'}. Best is trial 0 with value: -0.2688357719255417.\u001b[0m\n",
      "\u001b[32m[I 2021-10-25 21:54:20,528]\u001b[0m Trial 2 finished with value: -0.30776003699097637 and parameters: {'criterion': 'entropy', 'n_estimators': 856, 'max_depth': 5, 'max_features': 'auto'}. Best is trial 2 with value: -0.30776003699097637.\u001b[0m\n",
      "\u001b[32m[I 2021-10-25 21:54:23,035]\u001b[0m Trial 3 finished with value: -0.14570979382555346 and parameters: {'criterion': 'gini', 'n_estimators': 277, 'max_depth': 12, 'max_features': 'auto'}. Best is trial 2 with value: -0.30776003699097637.\u001b[0m\n",
      "\u001b[32m[I 2021-10-25 21:54:29,428]\u001b[0m Trial 4 finished with value: -0.18404915380397602 and parameters: {'criterion': 'gini', 'n_estimators': 809, 'max_depth': 9, 'max_features': 'auto'}. Best is trial 2 with value: -0.30776003699097637.\u001b[0m\n",
      "\u001b[32m[I 2021-10-25 21:54:32,215]\u001b[0m Trial 5 finished with value: -0.18413367598924157 and parameters: {'criterion': 'gini', 'n_estimators': 356, 'max_depth': 9, 'max_features': 'sqrt'}. Best is trial 2 with value: -0.30776003699097637.\u001b[0m\n",
      "\u001b[32m[I 2021-10-25 21:54:35,789]\u001b[0m Trial 6 finished with value: -0.30730667930648775 and parameters: {'criterion': 'gini', 'n_estimators': 671, 'max_depth': 5, 'max_features': 'sqrt'}. Best is trial 2 with value: -0.30776003699097637.\u001b[0m\n",
      "\u001b[32m[I 2021-10-25 21:54:39,878]\u001b[0m Trial 7 finished with value: -0.4092969809579979 and parameters: {'criterion': 'gini', 'n_estimators': 1055, 'max_depth': 3, 'max_features': 'auto'}. Best is trial 7 with value: -0.4092969809579979.\u001b[0m\n",
      "\u001b[32m[I 2021-10-25 21:54:44,867]\u001b[0m Trial 8 finished with value: -0.2364962524949822 and parameters: {'criterion': 'entropy', 'n_estimators': 610, 'max_depth': 7, 'max_features': 'sqrt'}. Best is trial 7 with value: -0.4092969809579979.\u001b[0m\n",
      "\u001b[32m[I 2021-10-25 21:54:49,689]\u001b[0m Trial 9 finished with value: -0.3534947889425324 and parameters: {'criterion': 'entropy', 'n_estimators': 890, 'max_depth': 4, 'max_features': 'auto'}. Best is trial 7 with value: -0.4092969809579979.\u001b[0m\n",
      "\u001b[32m[I 2021-10-25 21:54:55,543]\u001b[0m Trial 10 finished with value: -0.4087221820106457 and parameters: {'criterion': 'gini', 'n_estimators': 1491, 'max_depth': 3, 'max_features': 'sqrt'}. Best is trial 7 with value: -0.4092969809579979.\u001b[0m\n",
      "\u001b[32m[I 2021-10-25 21:55:01,350]\u001b[0m Trial 11 finished with value: -0.40712084364045914 and parameters: {'criterion': 'gini', 'n_estimators': 1484, 'max_depth': 3, 'max_features': 'sqrt'}. Best is trial 7 with value: -0.4092969809579979.\u001b[0m\n",
      "\u001b[32m[I 2021-10-25 21:55:07,017]\u001b[0m Trial 12 finished with value: -0.405898097602767 and parameters: {'criterion': 'gini', 'n_estimators': 1467, 'max_depth': 3, 'max_features': 'sqrt'}. Best is trial 7 with value: -0.4092969809579979.\u001b[0m\n",
      "\u001b[32m[I 2021-10-25 21:55:11,865]\u001b[0m Trial 13 finished with value: -0.4065580948329773 and parameters: {'criterion': 'gini', 'n_estimators': 1226, 'max_depth': 3, 'max_features': 'sqrt'}. Best is trial 7 with value: -0.4092969809579979.\u001b[0m\n",
      "\u001b[32m[I 2021-10-25 21:55:18,805]\u001b[0m Trial 14 finished with value: -0.3072351488427351 and parameters: {'criterion': 'gini', 'n_estimators': 1298, 'max_depth': 5, 'max_features': 'auto'}. Best is trial 7 with value: -0.4092969809579979.\u001b[0m\n",
      "\u001b[32m[I 2021-10-25 21:55:27,326]\u001b[0m Trial 15 finished with value: -0.20916597977298212 and parameters: {'criterion': 'gini', 'n_estimators': 1175, 'max_depth': 8, 'max_features': 'sqrt'}. Best is trial 7 with value: -0.4092969809579979.\u001b[0m\n",
      "\u001b[32m[I 2021-10-25 21:55:32,301]\u001b[0m Trial 16 finished with value: -0.3538127006810294 and parameters: {'criterion': 'gini', 'n_estimators': 1045, 'max_depth': 4, 'max_features': 'auto'}. Best is trial 7 with value: -0.4092969809579979.\u001b[0m\n",
      "\u001b[32m[I 2021-10-25 21:55:41,458]\u001b[0m Trial 17 finished with value: -0.23409614374776555 and parameters: {'criterion': 'gini', 'n_estimators': 1359, 'max_depth': 7, 'max_features': 'sqrt'}. Best is trial 7 with value: -0.4092969809579979.\u001b[0m\n",
      "\u001b[32m[I 2021-10-25 21:55:44,253]\u001b[0m Trial 18 finished with value: -0.3531845166899519 and parameters: {'criterion': 'entropy', 'n_estimators': 499, 'max_depth': 4, 'max_features': 'auto'}. Best is trial 7 with value: -0.4092969809579979.\u001b[0m\n",
      "\u001b[32m[I 2021-10-25 21:55:50,866]\u001b[0m Trial 19 finished with value: -0.2679565697645891 and parameters: {'criterion': 'gini', 'n_estimators': 1073, 'max_depth': 6, 'max_features': 'sqrt'}. Best is trial 7 with value: -0.4092969809579979.\u001b[0m\n",
      "\u001b[32m[I 2021-10-25 21:55:51,376]\u001b[0m Trial 20 finished with value: -0.40736998136374963 and parameters: {'criterion': 'gini', 'n_estimators': 123, 'max_depth': 3, 'max_features': 'auto'}. Best is trial 7 with value: -0.4092969809579979.\u001b[0m\n",
      "\u001b[32m[I 2021-10-25 21:55:53,194]\u001b[0m Trial 21 finished with value: -0.40659606725850184 and parameters: {'criterion': 'gini', 'n_estimators': 464, 'max_depth': 3, 'max_features': 'auto'}. Best is trial 7 with value: -0.4092969809579979.\u001b[0m\n",
      "\u001b[32m[I 2021-10-25 21:55:53,834]\u001b[0m Trial 22 finished with value: -0.353268408279413 and parameters: {'criterion': 'gini', 'n_estimators': 129, 'max_depth': 4, 'max_features': 'auto'}. Best is trial 7 with value: -0.4092969809579979.\u001b[0m\n",
      "\u001b[32m[I 2021-10-25 21:55:56,535]\u001b[0m Trial 23 finished with value: -0.40852505207207496 and parameters: {'criterion': 'gini', 'n_estimators': 692, 'max_depth': 3, 'max_features': 'auto'}. Best is trial 7 with value: -0.4092969809579979.\u001b[0m\n",
      "\u001b[32m[I 2021-10-25 21:56:00,480]\u001b[0m Trial 24 finished with value: -0.3075355529768396 and parameters: {'criterion': 'gini', 'n_estimators': 733, 'max_depth': 5, 'max_features': 'auto'}. Best is trial 7 with value: -0.4092969809579979.\u001b[0m\n",
      "\u001b[32m[I 2021-10-25 21:56:04,997]\u001b[0m Trial 25 finished with value: -0.35463777365095467 and parameters: {'criterion': 'gini', 'n_estimators': 958, 'max_depth': 4, 'max_features': 'auto'}. Best is trial 7 with value: -0.4092969809579979.\u001b[0m\n",
      "\u001b[32m[I 2021-10-25 21:56:15,113]\u001b[0m Trial 26 finished with value: -0.26948613247886805 and parameters: {'criterion': 'entropy', 'n_estimators': 1370, 'max_depth': 6, 'max_features': 'sqrt'}. Best is trial 7 with value: -0.4092969809579979.\u001b[0m\n",
      "\u001b[32m[I 2021-10-25 21:56:17,508]\u001b[0m Trial 27 finished with value: -0.40744242472534165 and parameters: {'criterion': 'gini', 'n_estimators': 614, 'max_depth': 3, 'max_features': 'auto'}. Best is trial 7 with value: -0.4092969809579979.\u001b[0m\n",
      "\u001b[32m[I 2021-10-25 21:56:23,040]\u001b[0m Trial 28 finished with value: -0.3533365606353776 and parameters: {'criterion': 'gini', 'n_estimators': 1191, 'max_depth': 4, 'max_features': 'sqrt'}. Best is trial 7 with value: -0.4092969809579979.\u001b[0m\n",
      "\u001b[32m[I 2021-10-25 21:56:29,623]\u001b[0m Trial 29 finished with value: -0.26920794333408066 and parameters: {'criterion': 'gini', 'n_estimators': 1088, 'max_depth': 6, 'max_features': 'auto'}. Best is trial 7 with value: -0.4092969809579979.\u001b[0m\n",
      "\u001b[32m[I 2021-10-25 21:56:36,296]\u001b[0m Trial 30 finished with value: -0.16802966477055606 and parameters: {'criterion': 'gini', 'n_estimators': 769, 'max_depth': 10, 'max_features': 'auto'}. Best is trial 7 with value: -0.4092969809579979.\u001b[0m\n",
      "\u001b[32m[I 2021-10-25 21:56:38,673]\u001b[0m Trial 31 finished with value: -0.4050294902740676 and parameters: {'criterion': 'gini', 'n_estimators': 579, 'max_depth': 3, 'max_features': 'auto'}. Best is trial 7 with value: -0.4092969809579979.\u001b[0m\n",
      "\u001b[32m[I 2021-10-25 21:56:41,399]\u001b[0m Trial 32 finished with value: -0.40663607405320507 and parameters: {'criterion': 'gini', 'n_estimators': 693, 'max_depth': 3, 'max_features': 'auto'}. Best is trial 7 with value: -0.4092969809579979.\u001b[0m\n",
      "\u001b[32m[I 2021-10-25 21:56:46,633]\u001b[0m Trial 33 finished with value: -0.3073159343469316 and parameters: {'criterion': 'gini', 'n_estimators': 980, 'max_depth': 5, 'max_features': 'auto'}. Best is trial 7 with value: -0.4092969809579979.\u001b[0m\n",
      "\u001b[32m[I 2021-10-25 21:56:48,997]\u001b[0m Trial 34 finished with value: -0.3554401103860989 and parameters: {'criterion': 'entropy', 'n_estimators': 425, 'max_depth': 4, 'max_features': 'auto'}. Best is trial 7 with value: -0.4092969809579979.\u001b[0m\n",
      "\u001b[32m[I 2021-10-25 21:56:51,207]\u001b[0m Trial 35 finished with value: -0.40932204021668134 and parameters: {'criterion': 'gini', 'n_estimators': 564, 'max_depth': 3, 'max_features': 'auto'}. Best is trial 35 with value: -0.40932204021668134.\u001b[0m\n",
      "\u001b[32m[I 2021-10-25 21:56:58,962]\u001b[0m Trial 36 finished with value: -0.1449115082220947 and parameters: {'criterion': 'gini', 'n_estimators': 854, 'max_depth': 12, 'max_features': 'auto'}. Best is trial 35 with value: -0.40932204021668134.\u001b[0m\n",
      "\u001b[32m[I 2021-10-25 21:57:00,269]\u001b[0m Trial 37 finished with value: -0.30860955182124256 and parameters: {'criterion': 'gini', 'n_estimators': 244, 'max_depth': 5, 'max_features': 'auto'}. Best is trial 35 with value: -0.40932204021668134.\u001b[0m\n",
      "\u001b[32m[I 2021-10-25 21:57:03,078]\u001b[0m Trial 38 finished with value: -0.3549891612169364 and parameters: {'criterion': 'entropy', 'n_estimators': 514, 'max_depth': 4, 'max_features': 'auto'}. Best is trial 35 with value: -0.40932204021668134.\u001b[0m\n",
      "\u001b[32m[I 2021-10-25 21:57:09,992]\u001b[0m Trial 39 finished with value: -0.16692770740933482 and parameters: {'criterion': 'gini', 'n_estimators': 822, 'max_depth': 10, 'max_features': 'sqrt'}. Best is trial 35 with value: -0.40932204021668134.\u001b[0m\n",
      "\u001b[32m[I 2021-10-25 21:57:11,342]\u001b[0m Trial 40 finished with value: -0.4090399562647294 and parameters: {'criterion': 'gini', 'n_estimators': 335, 'max_depth': 3, 'max_features': 'auto'}. Best is trial 35 with value: -0.40932204021668134.\u001b[0m\n",
      "\u001b[32m[I 2021-10-25 21:57:12,704]\u001b[0m Trial 41 finished with value: -0.40749139561159803 and parameters: {'criterion': 'gini', 'n_estimators': 344, 'max_depth': 3, 'max_features': 'auto'}. Best is trial 35 with value: -0.40932204021668134.\u001b[0m\n",
      "\u001b[32m[I 2021-10-25 21:57:13,583]\u001b[0m Trial 42 finished with value: -0.4074689343190414 and parameters: {'criterion': 'gini', 'n_estimators': 220, 'max_depth': 3, 'max_features': 'auto'}. Best is trial 35 with value: -0.40932204021668134.\u001b[0m\n",
      "\u001b[32m[I 2021-10-25 21:57:15,390]\u001b[0m Trial 43 finished with value: -0.35433072532288873 and parameters: {'criterion': 'gini', 'n_estimators': 386, 'max_depth': 4, 'max_features': 'auto'}. Best is trial 35 with value: -0.40932204021668134.\u001b[0m\n",
      "\u001b[32m[I 2021-10-25 21:57:17,593]\u001b[0m Trial 44 finished with value: -0.40897249973577904 and parameters: {'criterion': 'gini', 'n_estimators': 552, 'max_depth': 3, 'max_features': 'auto'}. Best is trial 35 with value: -0.40932204021668134.\u001b[0m\n",
      "\u001b[32m[I 2021-10-25 21:57:20,555]\u001b[0m Trial 45 finished with value: -0.3064561761994127 and parameters: {'criterion': 'gini', 'n_estimators': 551, 'max_depth': 5, 'max_features': 'sqrt'}. Best is trial 35 with value: -0.40932204021668134.\u001b[0m\n",
      "\u001b[32m[I 2021-10-25 21:57:24,047]\u001b[0m Trial 46 finished with value: -0.3549800948429913 and parameters: {'criterion': 'entropy', 'n_estimators': 625, 'max_depth': 4, 'max_features': 'auto'}. Best is trial 35 with value: -0.40932204021668134.\u001b[0m\n",
      "\u001b[32m[I 2021-10-25 21:57:25,380]\u001b[0m Trial 47 finished with value: -0.41057686032113283 and parameters: {'criterion': 'gini', 'n_estimators': 322, 'max_depth': 3, 'max_features': 'sqrt'}. Best is trial 47 with value: -0.41057686032113283.\u001b[0m\n",
      "\u001b[32m[I 2021-10-25 21:57:27,636]\u001b[0m Trial 48 finished with value: -0.20783203724594287 and parameters: {'criterion': 'gini', 'n_estimators': 309, 'max_depth': 8, 'max_features': 'auto'}. Best is trial 47 with value: -0.41057686032113283.\u001b[0m\n",
      "\u001b[32m[I 2021-10-25 21:57:28,333]\u001b[0m Trial 49 finished with value: -0.40908261566026066 and parameters: {'criterion': 'gini', 'n_estimators': 173, 'max_depth': 3, 'max_features': 'sqrt'}. Best is trial 47 with value: -0.41057686032113283.\u001b[0m\n",
      "\u001b[32m[I 2021-10-25 21:57:29,431]\u001b[0m Trial 50 finished with value: -0.31194966097303306 and parameters: {'criterion': 'gini', 'n_estimators': 200, 'max_depth': 5, 'max_features': 'sqrt'}. Best is trial 47 with value: -0.41057686032113283.\u001b[0m\n",
      "\u001b[32m[I 2021-10-25 21:57:30,599]\u001b[0m Trial 51 finished with value: -0.4098137576461888 and parameters: {'criterion': 'gini', 'n_estimators': 296, 'max_depth': 3, 'max_features': 'sqrt'}. Best is trial 47 with value: -0.41057686032113283.\u001b[0m\n",
      "\u001b[32m[I 2021-10-25 21:57:31,825]\u001b[0m Trial 52 finished with value: -0.41137749510710514 and parameters: {'criterion': 'gini', 'n_estimators': 295, 'max_depth': 3, 'max_features': 'sqrt'}. Best is trial 52 with value: -0.41137749510710514.\u001b[0m\n",
      "\u001b[32m[I 2021-10-25 21:57:33,203]\u001b[0m Trial 53 finished with value: -0.3551505696225136 and parameters: {'criterion': 'gini', 'n_estimators': 287, 'max_depth': 4, 'max_features': 'sqrt'}. Best is trial 52 with value: -0.41137749510710514.\u001b[0m\n",
      "\u001b[32m[I 2021-10-25 21:57:33,882]\u001b[0m Trial 54 finished with value: -0.4092097612987597 and parameters: {'criterion': 'gini', 'n_estimators': 167, 'max_depth': 3, 'max_features': 'sqrt'}. Best is trial 52 with value: -0.41137749510710514.\u001b[0m\n",
      "\u001b[32m[I 2021-10-25 21:57:35,749]\u001b[0m Trial 55 finished with value: -0.35573628034364946 and parameters: {'criterion': 'gini', 'n_estimators': 403, 'max_depth': 4, 'max_features': 'sqrt'}. Best is trial 52 with value: -0.41137749510710514.\u001b[0m\n",
      "\u001b[32m[I 2021-10-25 21:57:36,785]\u001b[0m Trial 56 finished with value: -0.4071098107428856 and parameters: {'criterion': 'gini', 'n_estimators': 259, 'max_depth': 3, 'max_features': 'sqrt'}. Best is trial 52 with value: -0.41137749510710514.\u001b[0m\n",
      "\u001b[32m[I 2021-10-25 21:57:37,729]\u001b[0m Trial 57 finished with value: -0.35705743123023165 and parameters: {'criterion': 'entropy', 'n_estimators': 167, 'max_depth': 4, 'max_features': 'sqrt'}. Best is trial 52 with value: -0.41137749510710514.\u001b[0m\n",
      "\u001b[32m[I 2021-10-25 21:57:39,397]\u001b[0m Trial 58 finished with value: -0.40767190147550164 and parameters: {'criterion': 'gini', 'n_estimators': 422, 'max_depth': 3, 'max_features': 'sqrt'}. Best is trial 52 with value: -0.41137749510710514.\u001b[0m\n",
      "\u001b[32m[I 2021-10-25 21:57:41,331]\u001b[0m Trial 59 finished with value: -0.4071774060976779 and parameters: {'criterion': 'gini', 'n_estimators': 475, 'max_depth': 3, 'max_features': 'sqrt'}. Best is trial 52 with value: -0.41137749510710514.\u001b[0m\n",
      "\u001b[32m[I 2021-10-25 21:57:42,149]\u001b[0m Trial 60 finished with value: -0.2330799813512429 and parameters: {'criterion': 'gini', 'n_estimators': 116, 'max_depth': 7, 'max_features': 'sqrt'}. Best is trial 52 with value: -0.41137749510710514.\u001b[0m\n",
      "\u001b[32m[I 2021-10-25 21:57:43,013]\u001b[0m Trial 61 finished with value: -0.41057984839054135 and parameters: {'criterion': 'gini', 'n_estimators': 214, 'max_depth': 3, 'max_features': 'sqrt'}. Best is trial 52 with value: -0.41137749510710514.\u001b[0m\n",
      "\u001b[32m[I 2021-10-25 21:57:44,286]\u001b[0m Trial 62 finished with value: -0.3575194086325288 and parameters: {'criterion': 'gini', 'n_estimators': 268, 'max_depth': 4, 'max_features': 'sqrt'}. Best is trial 52 with value: -0.41137749510710514.\u001b[0m\n",
      "\u001b[32m[I 2021-10-25 21:57:45,006]\u001b[0m Trial 63 finished with value: -0.40417306620596394 and parameters: {'criterion': 'gini', 'n_estimators': 171, 'max_depth': 3, 'max_features': 'sqrt'}. Best is trial 52 with value: -0.41137749510710514.\u001b[0m\n",
      "\u001b[32m[I 2021-10-25 21:57:46,281]\u001b[0m Trial 64 finished with value: -0.4105206999776086 and parameters: {'criterion': 'gini', 'n_estimators': 321, 'max_depth': 3, 'max_features': 'sqrt'}. Best is trial 52 with value: -0.41137749510710514.\u001b[0m\n",
      "\u001b[32m[I 2021-10-25 21:57:48,002]\u001b[0m Trial 65 finished with value: -0.3552103254852211 and parameters: {'criterion': 'gini', 'n_estimators': 365, 'max_depth': 4, 'max_features': 'sqrt'}. Best is trial 52 with value: -0.41137749510710514.\u001b[0m\n",
      "\u001b[32m[I 2021-10-25 21:57:49,216]\u001b[0m Trial 66 finished with value: -0.40754352932545396 and parameters: {'criterion': 'gini', 'n_estimators': 307, 'max_depth': 3, 'max_features': 'sqrt'}. Best is trial 52 with value: -0.41137749510710514.\u001b[0m\n",
      "\u001b[32m[I 2021-10-25 21:57:51,225]\u001b[0m Trial 67 finished with value: -0.3503863806147798 and parameters: {'criterion': 'gini', 'n_estimators': 434, 'max_depth': 4, 'max_features': 'sqrt'}. Best is trial 52 with value: -0.41137749510710514.\u001b[0m\n",
      "\u001b[32m[I 2021-10-25 21:57:52,545]\u001b[0m Trial 68 finished with value: -0.4054965761778697 and parameters: {'criterion': 'gini', 'n_estimators': 333, 'max_depth': 3, 'max_features': 'sqrt'}. Best is trial 52 with value: -0.41137749510710514.\u001b[0m\n",
      "\u001b[32m[I 2021-10-25 21:57:57,203]\u001b[0m Trial 69 finished with value: -0.4083331486286419 and parameters: {'criterion': 'entropy', 'n_estimators': 1027, 'max_depth': 3, 'max_features': 'sqrt'}. Best is trial 52 with value: -0.41137749510710514.\u001b[0m\n",
      "\u001b[32m[I 2021-10-25 21:57:58,449]\u001b[0m Trial 70 finished with value: -0.3071939912600301 and parameters: {'criterion': 'gini', 'n_estimators': 220, 'max_depth': 5, 'max_features': 'sqrt'}. Best is trial 52 with value: -0.41137749510710514.\u001b[0m\n",
      "\u001b[32m[I 2021-10-25 21:57:58,887]\u001b[0m Trial 71 finished with value: -0.4084213544414657 and parameters: {'criterion': 'gini', 'n_estimators': 105, 'max_depth': 3, 'max_features': 'sqrt'}. Best is trial 52 with value: -0.41137749510710514.\u001b[0m\n",
      "\u001b[32m[I 2021-10-25 21:57:59,506]\u001b[0m Trial 72 finished with value: -0.4072100561630852 and parameters: {'criterion': 'gini', 'n_estimators': 150, 'max_depth': 3, 'max_features': 'sqrt'}. Best is trial 52 with value: -0.41137749510710514.\u001b[0m\n",
      "\u001b[32m[I 2021-10-25 21:58:00,599]\u001b[0m Trial 73 finished with value: -0.3501305870414581 and parameters: {'criterion': 'gini', 'n_estimators': 229, 'max_depth': 4, 'max_features': 'sqrt'}. Best is trial 52 with value: -0.41137749510710514.\u001b[0m\n",
      "\u001b[32m[I 2021-10-25 21:58:01,707]\u001b[0m Trial 74 finished with value: -0.4072158114990314 and parameters: {'criterion': 'gini', 'n_estimators': 280, 'max_depth': 3, 'max_features': 'sqrt'}. Best is trial 52 with value: -0.41137749510710514.\u001b[0m\n",
      "\u001b[32m[I 2021-10-25 21:58:03,472]\u001b[0m Trial 75 finished with value: -0.35153903033742523 and parameters: {'criterion': 'gini', 'n_estimators': 378, 'max_depth': 4, 'max_features': 'sqrt'}. Best is trial 52 with value: -0.41137749510710514.\u001b[0m\n",
      "\u001b[32m[I 2021-10-25 21:58:07,070]\u001b[0m Trial 76 finished with value: -0.40583705839422285 and parameters: {'criterion': 'gini', 'n_estimators': 924, 'max_depth': 3, 'max_features': 'sqrt'}. Best is trial 52 with value: -0.41137749510710514.\u001b[0m\n",
      "\u001b[32m[I 2021-10-25 21:58:07,843]\u001b[0m Trial 77 finished with value: -0.408520583726645 and parameters: {'criterion': 'gini', 'n_estimators': 193, 'max_depth': 3, 'max_features': 'sqrt'}. Best is trial 52 with value: -0.41137749510710514.\u001b[0m\n",
      "\u001b[32m[I 2021-10-25 21:58:18,312]\u001b[0m Trial 78 finished with value: -0.18508183639122033 and parameters: {'criterion': 'gini', 'n_estimators': 1281, 'max_depth': 9, 'max_features': 'sqrt'}. Best is trial 52 with value: -0.41137749510710514.\u001b[0m\n",
      "\u001b[32m[I 2021-10-25 21:58:20,517]\u001b[0m Trial 79 finished with value: -0.35178806506013177 and parameters: {'criterion': 'gini', 'n_estimators': 456, 'max_depth': 4, 'max_features': 'sqrt'}. Best is trial 52 with value: -0.41137749510710514.\u001b[0m\n",
      "\u001b[32m[I 2021-10-25 21:58:21,762]\u001b[0m Trial 80 finished with value: -0.4102362303178704 and parameters: {'criterion': 'gini', 'n_estimators': 309, 'max_depth': 3, 'max_features': 'sqrt'}. Best is trial 52 with value: -0.41137749510710514.\u001b[0m\n",
      "\u001b[32m[I 2021-10-25 21:58:23,023]\u001b[0m Trial 81 finished with value: -0.4064066124009922 and parameters: {'criterion': 'gini', 'n_estimators': 318, 'max_depth': 3, 'max_features': 'sqrt'}. Best is trial 52 with value: -0.41137749510710514.\u001b[0m\n",
      "\u001b[32m[I 2021-10-25 21:58:23,983]\u001b[0m Trial 82 finished with value: -0.4083053058994264 and parameters: {'criterion': 'gini', 'n_estimators': 241, 'max_depth': 3, 'max_features': 'sqrt'}. Best is trial 52 with value: -0.41137749510710514.\u001b[0m\n",
      "\u001b[32m[I 2021-10-25 21:58:28,381]\u001b[0m Trial 83 finished with value: -0.40937508838541187 and parameters: {'criterion': 'gini', 'n_estimators': 1140, 'max_depth': 3, 'max_features': 'sqrt'}. Best is trial 52 with value: -0.41137749510710514.\u001b[0m\n",
      "\u001b[32m[I 2021-10-25 21:58:32,860]\u001b[0m Trial 84 finished with value: -0.4078062234006868 and parameters: {'criterion': 'gini', 'n_estimators': 1130, 'max_depth': 3, 'max_features': 'sqrt'}. Best is trial 52 with value: -0.41137749510710514.\u001b[0m\n",
      "\u001b[32m[I 2021-10-25 21:58:38,536]\u001b[0m Trial 85 finished with value: -0.35403309785747933 and parameters: {'criterion': 'gini', 'n_estimators': 1166, 'max_depth': 4, 'max_features': 'sqrt'}. Best is trial 52 with value: -0.41137749510710514.\u001b[0m\n"
     ]
    },
    {
     "ename": "KeyboardInterrupt",
     "evalue": "",
     "output_type": "error",
     "traceback": [
      "\u001b[1;31m---------------------------------------------------------------------------\u001b[0m",
      "\u001b[1;31mKeyboardInterrupt\u001b[0m                         Traceback (most recent call last)",
      "\u001b[1;32m<ipython-input-55-4182c55c4974>\u001b[0m in \u001b[0;36m<module>\u001b[1;34m\u001b[0m\n\u001b[0;32m      1\u001b[0m \u001b[0mstudy\u001b[0m \u001b[1;33m=\u001b[0m \u001b[0moptuna\u001b[0m\u001b[1;33m.\u001b[0m\u001b[0mcreate_study\u001b[0m\u001b[1;33m(\u001b[0m\u001b[0mdirection\u001b[0m\u001b[1;33m=\u001b[0m\u001b[1;34m'minimize'\u001b[0m\u001b[1;33m)\u001b[0m\u001b[1;33m\u001b[0m\u001b[1;33m\u001b[0m\u001b[0m\n\u001b[1;32m----> 2\u001b[1;33m \u001b[0mstudy\u001b[0m\u001b[1;33m.\u001b[0m\u001b[0moptimize\u001b[0m\u001b[1;33m(\u001b[0m\u001b[0mobjective\u001b[0m\u001b[1;33m,\u001b[0m \u001b[0mtimeout\u001b[0m\u001b[1;33m=\u001b[0m\u001b[1;36m600\u001b[0m\u001b[1;33m)\u001b[0m\u001b[1;33m\u001b[0m\u001b[1;33m\u001b[0m\u001b[0m\n\u001b[0m",
      "\u001b[1;32mE:\\ANACONDA\\lib\\site-packages\\optuna\\study\\study.py\u001b[0m in \u001b[0;36moptimize\u001b[1;34m(self, func, n_trials, timeout, n_jobs, catch, callbacks, gc_after_trial, show_progress_bar)\u001b[0m\n\u001b[0;32m    398\u001b[0m             )\n\u001b[0;32m    399\u001b[0m \u001b[1;33m\u001b[0m\u001b[0m\n\u001b[1;32m--> 400\u001b[1;33m         _optimize(\n\u001b[0m\u001b[0;32m    401\u001b[0m             \u001b[0mstudy\u001b[0m\u001b[1;33m=\u001b[0m\u001b[0mself\u001b[0m\u001b[1;33m,\u001b[0m\u001b[1;33m\u001b[0m\u001b[1;33m\u001b[0m\u001b[0m\n\u001b[0;32m    402\u001b[0m             \u001b[0mfunc\u001b[0m\u001b[1;33m=\u001b[0m\u001b[0mfunc\u001b[0m\u001b[1;33m,\u001b[0m\u001b[1;33m\u001b[0m\u001b[1;33m\u001b[0m\u001b[0m\n",
      "\u001b[1;32mE:\\ANACONDA\\lib\\site-packages\\optuna\\study\\_optimize.py\u001b[0m in \u001b[0;36m_optimize\u001b[1;34m(study, func, n_trials, timeout, n_jobs, catch, callbacks, gc_after_trial, show_progress_bar)\u001b[0m\n\u001b[0;32m     64\u001b[0m     \u001b[1;32mtry\u001b[0m\u001b[1;33m:\u001b[0m\u001b[1;33m\u001b[0m\u001b[1;33m\u001b[0m\u001b[0m\n\u001b[0;32m     65\u001b[0m         \u001b[1;32mif\u001b[0m \u001b[0mn_jobs\u001b[0m \u001b[1;33m==\u001b[0m \u001b[1;36m1\u001b[0m\u001b[1;33m:\u001b[0m\u001b[1;33m\u001b[0m\u001b[1;33m\u001b[0m\u001b[0m\n\u001b[1;32m---> 66\u001b[1;33m             _optimize_sequential(\n\u001b[0m\u001b[0;32m     67\u001b[0m                 \u001b[0mstudy\u001b[0m\u001b[1;33m,\u001b[0m\u001b[1;33m\u001b[0m\u001b[1;33m\u001b[0m\u001b[0m\n\u001b[0;32m     68\u001b[0m                 \u001b[0mfunc\u001b[0m\u001b[1;33m,\u001b[0m\u001b[1;33m\u001b[0m\u001b[1;33m\u001b[0m\u001b[0m\n",
      "\u001b[1;32mE:\\ANACONDA\\lib\\site-packages\\optuna\\study\\_optimize.py\u001b[0m in \u001b[0;36m_optimize_sequential\u001b[1;34m(study, func, n_trials, timeout, catch, callbacks, gc_after_trial, reseed_sampler_rng, time_start, progress_bar)\u001b[0m\n\u001b[0;32m    161\u001b[0m \u001b[1;33m\u001b[0m\u001b[0m\n\u001b[0;32m    162\u001b[0m         \u001b[1;32mtry\u001b[0m\u001b[1;33m:\u001b[0m\u001b[1;33m\u001b[0m\u001b[1;33m\u001b[0m\u001b[0m\n\u001b[1;32m--> 163\u001b[1;33m             \u001b[0mtrial\u001b[0m \u001b[1;33m=\u001b[0m \u001b[0m_run_trial\u001b[0m\u001b[1;33m(\u001b[0m\u001b[0mstudy\u001b[0m\u001b[1;33m,\u001b[0m \u001b[0mfunc\u001b[0m\u001b[1;33m,\u001b[0m \u001b[0mcatch\u001b[0m\u001b[1;33m)\u001b[0m\u001b[1;33m\u001b[0m\u001b[1;33m\u001b[0m\u001b[0m\n\u001b[0m\u001b[0;32m    164\u001b[0m         \u001b[1;32mexcept\u001b[0m \u001b[0mException\u001b[0m\u001b[1;33m:\u001b[0m\u001b[1;33m\u001b[0m\u001b[1;33m\u001b[0m\u001b[0m\n\u001b[0;32m    165\u001b[0m             \u001b[1;32mraise\u001b[0m\u001b[1;33m\u001b[0m\u001b[1;33m\u001b[0m\u001b[0m\n",
      "\u001b[1;32mE:\\ANACONDA\\lib\\site-packages\\optuna\\study\\_optimize.py\u001b[0m in \u001b[0;36m_run_trial\u001b[1;34m(study, func, catch)\u001b[0m\n\u001b[0;32m    211\u001b[0m \u001b[1;33m\u001b[0m\u001b[0m\n\u001b[0;32m    212\u001b[0m     \u001b[1;32mtry\u001b[0m\u001b[1;33m:\u001b[0m\u001b[1;33m\u001b[0m\u001b[1;33m\u001b[0m\u001b[0m\n\u001b[1;32m--> 213\u001b[1;33m         \u001b[0mvalue_or_values\u001b[0m \u001b[1;33m=\u001b[0m \u001b[0mfunc\u001b[0m\u001b[1;33m(\u001b[0m\u001b[0mtrial\u001b[0m\u001b[1;33m)\u001b[0m\u001b[1;33m\u001b[0m\u001b[1;33m\u001b[0m\u001b[0m\n\u001b[0m\u001b[0;32m    214\u001b[0m     \u001b[1;32mexcept\u001b[0m \u001b[0mexceptions\u001b[0m\u001b[1;33m.\u001b[0m\u001b[0mTrialPruned\u001b[0m \u001b[1;32mas\u001b[0m \u001b[0me\u001b[0m\u001b[1;33m:\u001b[0m\u001b[1;33m\u001b[0m\u001b[1;33m\u001b[0m\u001b[0m\n\u001b[0;32m    215\u001b[0m         \u001b[1;31m# TODO(mamu): Handle multi-objective cases.\u001b[0m\u001b[1;33m\u001b[0m\u001b[1;33m\u001b[0m\u001b[1;33m\u001b[0m\u001b[0m\n",
      "\u001b[1;32m<ipython-input-54-032d9e32b263>\u001b[0m in \u001b[0;36mobjective\u001b[1;34m(trial)\u001b[0m\n\u001b[0;32m      8\u001b[0m     \u001b[0mmodel\u001b[0m \u001b[1;33m=\u001b[0m \u001b[0mRandomForestClassifier\u001b[0m\u001b[1;33m(\u001b[0m\u001b[0mn_estimators\u001b[0m \u001b[1;33m=\u001b[0m\u001b[0mn_estimators\u001b[0m\u001b[1;33m,\u001b[0m \u001b[0mmax_depth\u001b[0m \u001b[1;33m=\u001b[0m \u001b[0mmax_depth\u001b[0m\u001b[1;33m,\u001b[0m \u001b[0mmax_features\u001b[0m\u001b[1;33m=\u001b[0m\u001b[0mmax_features\u001b[0m\u001b[1;33m,\u001b[0m\u001b[0mcriterion\u001b[0m \u001b[1;33m=\u001b[0m\u001b[0mcriterion\u001b[0m\u001b[1;33m)\u001b[0m\u001b[1;33m\u001b[0m\u001b[1;33m\u001b[0m\u001b[0m\n\u001b[0;32m      9\u001b[0m \u001b[1;33m\u001b[0m\u001b[0m\n\u001b[1;32m---> 10\u001b[1;33m     \u001b[0mcross_val\u001b[0m \u001b[1;33m=\u001b[0m \u001b[0mcross_val_score\u001b[0m\u001b[1;33m(\u001b[0m\u001b[0mmodel\u001b[0m\u001b[1;33m,\u001b[0m \u001b[0mx_SM\u001b[0m\u001b[1;33m,\u001b[0m \u001b[0my_SM\u001b[0m\u001b[1;33m,\u001b[0m \u001b[0mn_jobs\u001b[0m\u001b[1;33m=\u001b[0m\u001b[1;33m-\u001b[0m\u001b[1;36m1\u001b[0m\u001b[1;33m,\u001b[0m \u001b[0mcv\u001b[0m\u001b[1;33m=\u001b[0m\u001b[1;36m3\u001b[0m\u001b[1;33m,\u001b[0m\u001b[0mscoring\u001b[0m\u001b[1;33m=\u001b[0m \u001b[1;34m'neg_log_loss'\u001b[0m\u001b[1;33m)\u001b[0m\u001b[1;33m\u001b[0m\u001b[1;33m\u001b[0m\u001b[0m\n\u001b[0m\u001b[0;32m     11\u001b[0m     \u001b[0mscore\u001b[0m \u001b[1;33m=\u001b[0m \u001b[0mcross_val\u001b[0m\u001b[1;33m.\u001b[0m\u001b[0mmean\u001b[0m\u001b[1;33m(\u001b[0m\u001b[1;33m)\u001b[0m\u001b[1;33m\u001b[0m\u001b[1;33m\u001b[0m\u001b[0m\n\u001b[0;32m     12\u001b[0m     \u001b[1;32mreturn\u001b[0m \u001b[0mscore\u001b[0m\u001b[1;33m\u001b[0m\u001b[1;33m\u001b[0m\u001b[0m\n",
      "\u001b[1;32mE:\\ANACONDA\\lib\\site-packages\\sklearn\\utils\\validation.py\u001b[0m in \u001b[0;36minner_f\u001b[1;34m(*args, **kwargs)\u001b[0m\n\u001b[0;32m     61\u001b[0m             \u001b[0mextra_args\u001b[0m \u001b[1;33m=\u001b[0m \u001b[0mlen\u001b[0m\u001b[1;33m(\u001b[0m\u001b[0margs\u001b[0m\u001b[1;33m)\u001b[0m \u001b[1;33m-\u001b[0m \u001b[0mlen\u001b[0m\u001b[1;33m(\u001b[0m\u001b[0mall_args\u001b[0m\u001b[1;33m)\u001b[0m\u001b[1;33m\u001b[0m\u001b[1;33m\u001b[0m\u001b[0m\n\u001b[0;32m     62\u001b[0m             \u001b[1;32mif\u001b[0m \u001b[0mextra_args\u001b[0m \u001b[1;33m<=\u001b[0m \u001b[1;36m0\u001b[0m\u001b[1;33m:\u001b[0m\u001b[1;33m\u001b[0m\u001b[1;33m\u001b[0m\u001b[0m\n\u001b[1;32m---> 63\u001b[1;33m                 \u001b[1;32mreturn\u001b[0m \u001b[0mf\u001b[0m\u001b[1;33m(\u001b[0m\u001b[1;33m*\u001b[0m\u001b[0margs\u001b[0m\u001b[1;33m,\u001b[0m \u001b[1;33m**\u001b[0m\u001b[0mkwargs\u001b[0m\u001b[1;33m)\u001b[0m\u001b[1;33m\u001b[0m\u001b[1;33m\u001b[0m\u001b[0m\n\u001b[0m\u001b[0;32m     64\u001b[0m \u001b[1;33m\u001b[0m\u001b[0m\n\u001b[0;32m     65\u001b[0m             \u001b[1;31m# extra_args > 0\u001b[0m\u001b[1;33m\u001b[0m\u001b[1;33m\u001b[0m\u001b[1;33m\u001b[0m\u001b[0m\n",
      "\u001b[1;32mE:\\ANACONDA\\lib\\site-packages\\sklearn\\model_selection\\_validation.py\u001b[0m in \u001b[0;36mcross_val_score\u001b[1;34m(estimator, X, y, groups, scoring, cv, n_jobs, verbose, fit_params, pre_dispatch, error_score)\u001b[0m\n\u001b[0;32m    443\u001b[0m     \u001b[0mscorer\u001b[0m \u001b[1;33m=\u001b[0m \u001b[0mcheck_scoring\u001b[0m\u001b[1;33m(\u001b[0m\u001b[0mestimator\u001b[0m\u001b[1;33m,\u001b[0m \u001b[0mscoring\u001b[0m\u001b[1;33m=\u001b[0m\u001b[0mscoring\u001b[0m\u001b[1;33m)\u001b[0m\u001b[1;33m\u001b[0m\u001b[1;33m\u001b[0m\u001b[0m\n\u001b[0;32m    444\u001b[0m \u001b[1;33m\u001b[0m\u001b[0m\n\u001b[1;32m--> 445\u001b[1;33m     cv_results = cross_validate(estimator=estimator, X=X, y=y, groups=groups,\n\u001b[0m\u001b[0;32m    446\u001b[0m                                 \u001b[0mscoring\u001b[0m\u001b[1;33m=\u001b[0m\u001b[1;33m{\u001b[0m\u001b[1;34m'score'\u001b[0m\u001b[1;33m:\u001b[0m \u001b[0mscorer\u001b[0m\u001b[1;33m}\u001b[0m\u001b[1;33m,\u001b[0m \u001b[0mcv\u001b[0m\u001b[1;33m=\u001b[0m\u001b[0mcv\u001b[0m\u001b[1;33m,\u001b[0m\u001b[1;33m\u001b[0m\u001b[1;33m\u001b[0m\u001b[0m\n\u001b[0;32m    447\u001b[0m                                 \u001b[0mn_jobs\u001b[0m\u001b[1;33m=\u001b[0m\u001b[0mn_jobs\u001b[0m\u001b[1;33m,\u001b[0m \u001b[0mverbose\u001b[0m\u001b[1;33m=\u001b[0m\u001b[0mverbose\u001b[0m\u001b[1;33m,\u001b[0m\u001b[1;33m\u001b[0m\u001b[1;33m\u001b[0m\u001b[0m\n",
      "\u001b[1;32mE:\\ANACONDA\\lib\\site-packages\\sklearn\\utils\\validation.py\u001b[0m in \u001b[0;36minner_f\u001b[1;34m(*args, **kwargs)\u001b[0m\n\u001b[0;32m     61\u001b[0m             \u001b[0mextra_args\u001b[0m \u001b[1;33m=\u001b[0m \u001b[0mlen\u001b[0m\u001b[1;33m(\u001b[0m\u001b[0margs\u001b[0m\u001b[1;33m)\u001b[0m \u001b[1;33m-\u001b[0m \u001b[0mlen\u001b[0m\u001b[1;33m(\u001b[0m\u001b[0mall_args\u001b[0m\u001b[1;33m)\u001b[0m\u001b[1;33m\u001b[0m\u001b[1;33m\u001b[0m\u001b[0m\n\u001b[0;32m     62\u001b[0m             \u001b[1;32mif\u001b[0m \u001b[0mextra_args\u001b[0m \u001b[1;33m<=\u001b[0m \u001b[1;36m0\u001b[0m\u001b[1;33m:\u001b[0m\u001b[1;33m\u001b[0m\u001b[1;33m\u001b[0m\u001b[0m\n\u001b[1;32m---> 63\u001b[1;33m                 \u001b[1;32mreturn\u001b[0m \u001b[0mf\u001b[0m\u001b[1;33m(\u001b[0m\u001b[1;33m*\u001b[0m\u001b[0margs\u001b[0m\u001b[1;33m,\u001b[0m \u001b[1;33m**\u001b[0m\u001b[0mkwargs\u001b[0m\u001b[1;33m)\u001b[0m\u001b[1;33m\u001b[0m\u001b[1;33m\u001b[0m\u001b[0m\n\u001b[0m\u001b[0;32m     64\u001b[0m \u001b[1;33m\u001b[0m\u001b[0m\n\u001b[0;32m     65\u001b[0m             \u001b[1;31m# extra_args > 0\u001b[0m\u001b[1;33m\u001b[0m\u001b[1;33m\u001b[0m\u001b[1;33m\u001b[0m\u001b[0m\n",
      "\u001b[1;32mE:\\ANACONDA\\lib\\site-packages\\sklearn\\model_selection\\_validation.py\u001b[0m in \u001b[0;36mcross_validate\u001b[1;34m(estimator, X, y, groups, scoring, cv, n_jobs, verbose, fit_params, pre_dispatch, return_train_score, return_estimator, error_score)\u001b[0m\n\u001b[0;32m    248\u001b[0m     parallel = Parallel(n_jobs=n_jobs, verbose=verbose,\n\u001b[0;32m    249\u001b[0m                         pre_dispatch=pre_dispatch)\n\u001b[1;32m--> 250\u001b[1;33m     results = parallel(\n\u001b[0m\u001b[0;32m    251\u001b[0m         delayed(_fit_and_score)(\n\u001b[0;32m    252\u001b[0m             \u001b[0mclone\u001b[0m\u001b[1;33m(\u001b[0m\u001b[0mestimator\u001b[0m\u001b[1;33m)\u001b[0m\u001b[1;33m,\u001b[0m \u001b[0mX\u001b[0m\u001b[1;33m,\u001b[0m \u001b[0my\u001b[0m\u001b[1;33m,\u001b[0m \u001b[0mscorers\u001b[0m\u001b[1;33m,\u001b[0m \u001b[0mtrain\u001b[0m\u001b[1;33m,\u001b[0m \u001b[0mtest\u001b[0m\u001b[1;33m,\u001b[0m \u001b[0mverbose\u001b[0m\u001b[1;33m,\u001b[0m \u001b[1;32mNone\u001b[0m\u001b[1;33m,\u001b[0m\u001b[1;33m\u001b[0m\u001b[1;33m\u001b[0m\u001b[0m\n",
      "\u001b[1;32mE:\\ANACONDA\\lib\\site-packages\\joblib\\parallel.py\u001b[0m in \u001b[0;36m__call__\u001b[1;34m(self, iterable)\u001b[0m\n\u001b[0;32m   1059\u001b[0m \u001b[1;33m\u001b[0m\u001b[0m\n\u001b[0;32m   1060\u001b[0m             \u001b[1;32mwith\u001b[0m \u001b[0mself\u001b[0m\u001b[1;33m.\u001b[0m\u001b[0m_backend\u001b[0m\u001b[1;33m.\u001b[0m\u001b[0mretrieval_context\u001b[0m\u001b[1;33m(\u001b[0m\u001b[1;33m)\u001b[0m\u001b[1;33m:\u001b[0m\u001b[1;33m\u001b[0m\u001b[1;33m\u001b[0m\u001b[0m\n\u001b[1;32m-> 1061\u001b[1;33m                 \u001b[0mself\u001b[0m\u001b[1;33m.\u001b[0m\u001b[0mretrieve\u001b[0m\u001b[1;33m(\u001b[0m\u001b[1;33m)\u001b[0m\u001b[1;33m\u001b[0m\u001b[1;33m\u001b[0m\u001b[0m\n\u001b[0m\u001b[0;32m   1062\u001b[0m             \u001b[1;31m# Make sure that we get a last message telling us we are done\u001b[0m\u001b[1;33m\u001b[0m\u001b[1;33m\u001b[0m\u001b[1;33m\u001b[0m\u001b[0m\n\u001b[0;32m   1063\u001b[0m             \u001b[0melapsed_time\u001b[0m \u001b[1;33m=\u001b[0m \u001b[0mtime\u001b[0m\u001b[1;33m.\u001b[0m\u001b[0mtime\u001b[0m\u001b[1;33m(\u001b[0m\u001b[1;33m)\u001b[0m \u001b[1;33m-\u001b[0m \u001b[0mself\u001b[0m\u001b[1;33m.\u001b[0m\u001b[0m_start_time\u001b[0m\u001b[1;33m\u001b[0m\u001b[1;33m\u001b[0m\u001b[0m\n",
      "\u001b[1;32mE:\\ANACONDA\\lib\\site-packages\\joblib\\parallel.py\u001b[0m in \u001b[0;36mretrieve\u001b[1;34m(self)\u001b[0m\n\u001b[0;32m    938\u001b[0m             \u001b[1;32mtry\u001b[0m\u001b[1;33m:\u001b[0m\u001b[1;33m\u001b[0m\u001b[1;33m\u001b[0m\u001b[0m\n\u001b[0;32m    939\u001b[0m                 \u001b[1;32mif\u001b[0m \u001b[0mgetattr\u001b[0m\u001b[1;33m(\u001b[0m\u001b[0mself\u001b[0m\u001b[1;33m.\u001b[0m\u001b[0m_backend\u001b[0m\u001b[1;33m,\u001b[0m \u001b[1;34m'supports_timeout'\u001b[0m\u001b[1;33m,\u001b[0m \u001b[1;32mFalse\u001b[0m\u001b[1;33m)\u001b[0m\u001b[1;33m:\u001b[0m\u001b[1;33m\u001b[0m\u001b[1;33m\u001b[0m\u001b[0m\n\u001b[1;32m--> 940\u001b[1;33m                     \u001b[0mself\u001b[0m\u001b[1;33m.\u001b[0m\u001b[0m_output\u001b[0m\u001b[1;33m.\u001b[0m\u001b[0mextend\u001b[0m\u001b[1;33m(\u001b[0m\u001b[0mjob\u001b[0m\u001b[1;33m.\u001b[0m\u001b[0mget\u001b[0m\u001b[1;33m(\u001b[0m\u001b[0mtimeout\u001b[0m\u001b[1;33m=\u001b[0m\u001b[0mself\u001b[0m\u001b[1;33m.\u001b[0m\u001b[0mtimeout\u001b[0m\u001b[1;33m)\u001b[0m\u001b[1;33m)\u001b[0m\u001b[1;33m\u001b[0m\u001b[1;33m\u001b[0m\u001b[0m\n\u001b[0m\u001b[0;32m    941\u001b[0m                 \u001b[1;32melse\u001b[0m\u001b[1;33m:\u001b[0m\u001b[1;33m\u001b[0m\u001b[1;33m\u001b[0m\u001b[0m\n\u001b[0;32m    942\u001b[0m                     \u001b[0mself\u001b[0m\u001b[1;33m.\u001b[0m\u001b[0m_output\u001b[0m\u001b[1;33m.\u001b[0m\u001b[0mextend\u001b[0m\u001b[1;33m(\u001b[0m\u001b[0mjob\u001b[0m\u001b[1;33m.\u001b[0m\u001b[0mget\u001b[0m\u001b[1;33m(\u001b[0m\u001b[1;33m)\u001b[0m\u001b[1;33m)\u001b[0m\u001b[1;33m\u001b[0m\u001b[1;33m\u001b[0m\u001b[0m\n",
      "\u001b[1;32mE:\\ANACONDA\\lib\\site-packages\\joblib\\_parallel_backends.py\u001b[0m in \u001b[0;36mwrap_future_result\u001b[1;34m(future, timeout)\u001b[0m\n\u001b[0;32m    540\u001b[0m         AsyncResults.get from multiprocessing.\"\"\"\n\u001b[0;32m    541\u001b[0m         \u001b[1;32mtry\u001b[0m\u001b[1;33m:\u001b[0m\u001b[1;33m\u001b[0m\u001b[1;33m\u001b[0m\u001b[0m\n\u001b[1;32m--> 542\u001b[1;33m             \u001b[1;32mreturn\u001b[0m \u001b[0mfuture\u001b[0m\u001b[1;33m.\u001b[0m\u001b[0mresult\u001b[0m\u001b[1;33m(\u001b[0m\u001b[0mtimeout\u001b[0m\u001b[1;33m=\u001b[0m\u001b[0mtimeout\u001b[0m\u001b[1;33m)\u001b[0m\u001b[1;33m\u001b[0m\u001b[1;33m\u001b[0m\u001b[0m\n\u001b[0m\u001b[0;32m    543\u001b[0m         \u001b[1;32mexcept\u001b[0m \u001b[0mCfTimeoutError\u001b[0m \u001b[1;32mas\u001b[0m \u001b[0me\u001b[0m\u001b[1;33m:\u001b[0m\u001b[1;33m\u001b[0m\u001b[1;33m\u001b[0m\u001b[0m\n\u001b[0;32m    544\u001b[0m             \u001b[1;32mraise\u001b[0m \u001b[0mTimeoutError\u001b[0m \u001b[1;32mfrom\u001b[0m \u001b[0me\u001b[0m\u001b[1;33m\u001b[0m\u001b[1;33m\u001b[0m\u001b[0m\n",
      "\u001b[1;32mE:\\ANACONDA\\lib\\concurrent\\futures\\_base.py\u001b[0m in \u001b[0;36mresult\u001b[1;34m(self, timeout)\u001b[0m\n\u001b[0;32m    432\u001b[0m                 \u001b[1;32mreturn\u001b[0m \u001b[0mself\u001b[0m\u001b[1;33m.\u001b[0m\u001b[0m__get_result\u001b[0m\u001b[1;33m(\u001b[0m\u001b[1;33m)\u001b[0m\u001b[1;33m\u001b[0m\u001b[1;33m\u001b[0m\u001b[0m\n\u001b[0;32m    433\u001b[0m \u001b[1;33m\u001b[0m\u001b[0m\n\u001b[1;32m--> 434\u001b[1;33m             \u001b[0mself\u001b[0m\u001b[1;33m.\u001b[0m\u001b[0m_condition\u001b[0m\u001b[1;33m.\u001b[0m\u001b[0mwait\u001b[0m\u001b[1;33m(\u001b[0m\u001b[0mtimeout\u001b[0m\u001b[1;33m)\u001b[0m\u001b[1;33m\u001b[0m\u001b[1;33m\u001b[0m\u001b[0m\n\u001b[0m\u001b[0;32m    435\u001b[0m \u001b[1;33m\u001b[0m\u001b[0m\n\u001b[0;32m    436\u001b[0m             \u001b[1;32mif\u001b[0m \u001b[0mself\u001b[0m\u001b[1;33m.\u001b[0m\u001b[0m_state\u001b[0m \u001b[1;32min\u001b[0m \u001b[1;33m[\u001b[0m\u001b[0mCANCELLED\u001b[0m\u001b[1;33m,\u001b[0m \u001b[0mCANCELLED_AND_NOTIFIED\u001b[0m\u001b[1;33m]\u001b[0m\u001b[1;33m:\u001b[0m\u001b[1;33m\u001b[0m\u001b[1;33m\u001b[0m\u001b[0m\n",
      "\u001b[1;32mE:\\ANACONDA\\lib\\threading.py\u001b[0m in \u001b[0;36mwait\u001b[1;34m(self, timeout)\u001b[0m\n\u001b[0;32m    300\u001b[0m         \u001b[1;32mtry\u001b[0m\u001b[1;33m:\u001b[0m    \u001b[1;31m# restore state no matter what (e.g., KeyboardInterrupt)\u001b[0m\u001b[1;33m\u001b[0m\u001b[1;33m\u001b[0m\u001b[0m\n\u001b[0;32m    301\u001b[0m             \u001b[1;32mif\u001b[0m \u001b[0mtimeout\u001b[0m \u001b[1;32mis\u001b[0m \u001b[1;32mNone\u001b[0m\u001b[1;33m:\u001b[0m\u001b[1;33m\u001b[0m\u001b[1;33m\u001b[0m\u001b[0m\n\u001b[1;32m--> 302\u001b[1;33m                 \u001b[0mwaiter\u001b[0m\u001b[1;33m.\u001b[0m\u001b[0macquire\u001b[0m\u001b[1;33m(\u001b[0m\u001b[1;33m)\u001b[0m\u001b[1;33m\u001b[0m\u001b[1;33m\u001b[0m\u001b[0m\n\u001b[0m\u001b[0;32m    303\u001b[0m                 \u001b[0mgotit\u001b[0m \u001b[1;33m=\u001b[0m \u001b[1;32mTrue\u001b[0m\u001b[1;33m\u001b[0m\u001b[1;33m\u001b[0m\u001b[0m\n\u001b[0;32m    304\u001b[0m             \u001b[1;32melse\u001b[0m\u001b[1;33m:\u001b[0m\u001b[1;33m\u001b[0m\u001b[1;33m\u001b[0m\u001b[0m\n",
      "\u001b[1;31mKeyboardInterrupt\u001b[0m: "
     ]
    }
   ],
   "source": [
    "study = optuna.create_study(direction='minimize')\n",
    "study.optimize(objective, timeout=600)"
   ]
  },
  {
   "cell_type": "code",
   "execution_count": null,
   "metadata": {},
   "outputs": [],
   "source": [
    "print(study.best_params)"
   ]
  },
  {
   "cell_type": "code",
   "execution_count": 32,
   "metadata": {},
   "outputs": [
    {
     "name": "stderr",
     "output_type": "stream",
     "text": [
      "\u001b[32m[I 2021-10-20 14:49:10,282]\u001b[0m A new study created in memory with name: no-name-6d107f4b-5106-4c33-83b8-07badc6a4beb\u001b[0m\n",
      "feature_fraction, val_score: inf:   0%|          | 0/7 [00:00<?, ?it/s]"
     ]
    },
    {
     "name": "stdout",
     "output_type": "stream",
     "text": [
      "[100]\tcv_agg's binary_logloss: 0.0553105 + 0.0216088\n",
      "[200]\tcv_agg's binary_logloss: 0.0457385 + 0.0242968\n"
     ]
    },
    {
     "name": "stderr",
     "output_type": "stream",
     "text": [
      "feature_fraction, val_score: 0.045549:  14%|#4        | 1/7 [00:09<00:59,  9.99s/it]\u001b[32m[I 2021-10-20 14:49:20,274]\u001b[0m Trial 0 finished with value: 0.04554935817757618 and parameters: {'feature_fraction': 1.0}. Best is trial 0 with value: 0.04554935817757618.\u001b[0m\n",
      "feature_fraction, val_score: 0.045549:  14%|#4        | 1/7 [00:09<00:59,  9.99s/it]"
     ]
    },
    {
     "name": "stdout",
     "output_type": "stream",
     "text": [
      "[100]\tcv_agg's binary_logloss: 0.0557823 + 0.0210689\n",
      "[200]\tcv_agg's binary_logloss: 0.045901 + 0.0238319\n"
     ]
    },
    {
     "name": "stderr",
     "output_type": "stream",
     "text": [
      "feature_fraction, val_score: 0.045549:  29%|##8       | 2/7 [00:15<00:43,  8.66s/it]\u001b[32m[I 2021-10-20 14:49:25,841]\u001b[0m Trial 1 finished with value: 0.045685885518605036 and parameters: {'feature_fraction': 0.8999999999999999}. Best is trial 0 with value: 0.04554935817757618.\u001b[0m\n",
      "feature_fraction, val_score: 0.045549:  29%|##8       | 2/7 [00:15<00:43,  8.66s/it]"
     ]
    },
    {
     "name": "stdout",
     "output_type": "stream",
     "text": [
      "[100]\tcv_agg's binary_logloss: 0.0569838 + 0.0198084\n",
      "[200]\tcv_agg's binary_logloss: 0.04524 + 0.0238697\n"
     ]
    },
    {
     "name": "stderr",
     "output_type": "stream",
     "text": [
      "feature_fraction, val_score: 0.044510:  43%|####2     | 3/7 [00:22<00:32,  8.23s/it]\u001b[32m[I 2021-10-20 14:49:33,063]\u001b[0m Trial 2 finished with value: 0.04450960801520812 and parameters: {'feature_fraction': 0.6}. Best is trial 2 with value: 0.04450960801520812.\u001b[0m\n",
      "feature_fraction, val_score: 0.044510:  43%|####2     | 3/7 [00:22<00:32,  8.23s/it]"
     ]
    },
    {
     "name": "stdout",
     "output_type": "stream",
     "text": [
      "[100]\tcv_agg's binary_logloss: 0.0550577 + 0.0201612\n",
      "[200]\tcv_agg's binary_logloss: 0.0454882 + 0.0237002\n"
     ]
    },
    {
     "name": "stderr",
     "output_type": "stream",
     "text": [
      "feature_fraction, val_score: 0.044510:  57%|#####7    | 4/7 [00:28<00:22,  7.56s/it]\u001b[32m[I 2021-10-20 14:49:39,057]\u001b[0m Trial 3 finished with value: 0.04524525252587121 and parameters: {'feature_fraction': 0.7}. Best is trial 2 with value: 0.04450960801520812.\u001b[0m\n",
      "feature_fraction, val_score: 0.044510:  57%|#####7    | 4/7 [00:28<00:22,  7.56s/it]"
     ]
    },
    {
     "name": "stdout",
     "output_type": "stream",
     "text": [
      "[100]\tcv_agg's binary_logloss: 0.064639 + 0.0188365\n",
      "[200]\tcv_agg's binary_logloss: 0.0462967 + 0.0217485\n",
      "[300]\tcv_agg's binary_logloss: 0.0442567 + 0.0239143\n"
     ]
    },
    {
     "name": "stderr",
     "output_type": "stream",
     "text": [
      "feature_fraction, val_score: 0.044027:  71%|#######1  | 5/7 [00:36<00:14,  7.47s/it]\u001b[32m[I 2021-10-20 14:49:46,329]\u001b[0m Trial 4 finished with value: 0.044027153486917145 and parameters: {'feature_fraction': 0.4}. Best is trial 4 with value: 0.044027153486917145.\u001b[0m\n",
      "feature_fraction, val_score: 0.044027:  71%|#######1  | 5/7 [00:36<00:14,  7.47s/it]"
     ]
    },
    {
     "name": "stdout",
     "output_type": "stream",
     "text": [
      "[100]\tcv_agg's binary_logloss: 0.0587781 + 0.0183761\n",
      "[200]\tcv_agg's binary_logloss: 0.0450421 + 0.0216342\n"
     ]
    },
    {
     "name": "stderr",
     "output_type": "stream",
     "text": [
      "feature_fraction, val_score: 0.043895:  86%|########5 | 6/7 [00:43<00:07,  7.34s/it]\u001b[32m[I 2021-10-20 14:49:53,360]\u001b[0m Trial 5 finished with value: 0.043894795241042645 and parameters: {'feature_fraction': 0.5}. Best is trial 5 with value: 0.043894795241042645.\u001b[0m\n",
      "feature_fraction, val_score: 0.043895:  86%|########5 | 6/7 [00:43<00:07,  7.34s/it]"
     ]
    },
    {
     "name": "stdout",
     "output_type": "stream",
     "text": [
      "[100]\tcv_agg's binary_logloss: 0.0549097 + 0.019875\n",
      "[200]\tcv_agg's binary_logloss: 0.0449953 + 0.0230635\n"
     ]
    },
    {
     "name": "stderr",
     "output_type": "stream",
     "text": [
      "feature_fraction, val_score: 0.043895: 100%|##########| 7/7 [00:49<00:00,  6.96s/it]\u001b[32m[I 2021-10-20 14:49:59,417]\u001b[0m Trial 6 finished with value: 0.0445149562537303 and parameters: {'feature_fraction': 0.8}. Best is trial 5 with value: 0.043894795241042645.\u001b[0m\n",
      "feature_fraction, val_score: 0.043895: 100%|##########| 7/7 [00:49<00:00,  7.02s/it]\n",
      "num_leaves, val_score: 0.043895:   0%|          | 0/20 [00:00<?, ?it/s]"
     ]
    },
    {
     "name": "stdout",
     "output_type": "stream",
     "text": [
      "[100]\tcv_agg's binary_logloss: 0.0511896 + 0.0204287\n"
     ]
    },
    {
     "name": "stderr",
     "output_type": "stream",
     "text": [
      "num_leaves, val_score: 0.043895:   5%|5         | 1/20 [00:08<02:35,  8.17s/it]\u001b[32m[I 2021-10-20 14:50:07,588]\u001b[0m Trial 7 finished with value: 0.045214361709033736 and parameters: {'num_leaves': 59}. Best is trial 7 with value: 0.045214361709033736.\u001b[0m\n",
      "num_leaves, val_score: 0.043895:   5%|5         | 1/20 [00:08<02:35,  8.17s/it]"
     ]
    },
    {
     "name": "stdout",
     "output_type": "stream",
     "text": [
      "[100]\tcv_agg's binary_logloss: 0.0504197 + 0.0197528\n",
      "[200]\tcv_agg's binary_logloss: 0.045737 + 0.0249593\n"
     ]
    },
    {
     "name": "stderr",
     "output_type": "stream",
     "text": [
      "num_leaves, val_score: 0.043895:  10%|#         | 2/20 [00:17<02:32,  8.45s/it]\u001b[32m[I 2021-10-20 14:50:16,706]\u001b[0m Trial 8 finished with value: 0.044711415428481144 and parameters: {'num_leaves': 62}. Best is trial 8 with value: 0.044711415428481144.\u001b[0m\n",
      "num_leaves, val_score: 0.043895:  10%|#         | 2/20 [00:17<02:32,  8.45s/it]"
     ]
    },
    {
     "name": "stdout",
     "output_type": "stream",
     "text": [
      "[100]\tcv_agg's binary_logloss: 0.046868 + 0.0208976\n"
     ]
    },
    {
     "name": "stderr",
     "output_type": "stream",
     "text": [
      "num_leaves, val_score: 0.043895:  15%|#5        | 3/20 [00:34<03:08, 11.09s/it]\u001b[32m[I 2021-10-20 14:50:33,944]\u001b[0m Trial 9 finished with value: 0.04543462887564757 and parameters: {'num_leaves': 176}. Best is trial 8 with value: 0.044711415428481144.\u001b[0m\n",
      "num_leaves, val_score: 0.043895:  15%|#5        | 3/20 [00:34<03:08, 11.09s/it]"
     ]
    },
    {
     "name": "stdout",
     "output_type": "stream",
     "text": [
      "[100]\tcv_agg's binary_logloss: 0.0471571 + 0.0205228\n"
     ]
    },
    {
     "name": "stderr",
     "output_type": "stream",
     "text": [
      "num_leaves, val_score: 0.043895:  20%|##        | 4/20 [00:49<03:18, 12.40s/it]\u001b[32m[I 2021-10-20 14:50:49,401]\u001b[0m Trial 10 finished with value: 0.04516623949487606 and parameters: {'num_leaves': 141}. Best is trial 8 with value: 0.044711415428481144.\u001b[0m\n",
      "num_leaves, val_score: 0.043895:  20%|##        | 4/20 [00:49<03:18, 12.40s/it]"
     ]
    },
    {
     "name": "stdout",
     "output_type": "stream",
     "text": [
      "[100]\tcv_agg's binary_logloss: 0.0479466 + 0.0207435\n"
     ]
    },
    {
     "name": "stderr",
     "output_type": "stream",
     "text": [
      "num_leaves, val_score: 0.043895:  25%|##5       | 5/20 [01:00<02:58, 11.89s/it]\u001b[32m[I 2021-10-20 14:51:00,096]\u001b[0m Trial 11 finished with value: 0.04522750459666455 and parameters: {'num_leaves': 96}. Best is trial 8 with value: 0.044711415428481144.\u001b[0m\n",
      "num_leaves, val_score: 0.043895:  25%|##5       | 5/20 [01:00<02:58, 11.89s/it]"
     ]
    },
    {
     "name": "stdout",
     "output_type": "stream",
     "text": [
      "[100]\tcv_agg's binary_logloss: 0.0471064 + 0.0214303\n"
     ]
    },
    {
     "name": "stderr",
     "output_type": "stream",
     "text": [
      "num_leaves, val_score: 0.043895:  30%|###       | 6/20 [01:18<03:09, 13.56s/it]\u001b[32m[I 2021-10-20 14:51:17,556]\u001b[0m Trial 12 finished with value: 0.046265100240592785 and parameters: {'num_leaves': 190}. Best is trial 8 with value: 0.044711415428481144.\u001b[0m\n",
      "num_leaves, val_score: 0.043895:  30%|###       | 6/20 [01:18<03:09, 13.56s/it]"
     ]
    },
    {
     "name": "stdout",
     "output_type": "stream",
     "text": [
      "[100]\tcv_agg's binary_logloss: 0.0835424 + 0.018392\n",
      "[200]\tcv_agg's binary_logloss: 0.0578414 + 0.019615\n",
      "[300]\tcv_agg's binary_logloss: 0.0503868 + 0.0201026\n",
      "[400]\tcv_agg's binary_logloss: 0.0473059 + 0.0221528\n",
      "[500]\tcv_agg's binary_logloss: 0.0458596 + 0.0234535\n"
     ]
    },
    {
     "name": "stderr",
     "output_type": "stream",
     "text": [
      "num_leaves, val_score: 0.043895:  35%|###5      | 7/20 [01:23<02:24, 11.15s/it]\u001b[32m[I 2021-10-20 14:51:23,068]\u001b[0m Trial 13 finished with value: 0.04575068840841584 and parameters: {'num_leaves': 12}. Best is trial 8 with value: 0.044711415428481144.\u001b[0m\n",
      "num_leaves, val_score: 0.043895:  35%|###5      | 7/20 [01:23<02:24, 11.15s/it]"
     ]
    },
    {
     "name": "stdout",
     "output_type": "stream",
     "text": [
      "[100]\tcv_agg's binary_logloss: 0.0476272 + 0.0220239\n"
     ]
    },
    {
     "name": "stderr",
     "output_type": "stream",
     "text": [
      "num_leaves, val_score: 0.043895:  40%|####      | 8/20 [01:42<02:41, 13.46s/it]\u001b[32m[I 2021-10-20 14:51:41,929]\u001b[0m Trial 14 finished with value: 0.04610456131055236 and parameters: {'num_leaves': 194}. Best is trial 8 with value: 0.044711415428481144.\u001b[0m\n",
      "num_leaves, val_score: 0.043895:  40%|####      | 8/20 [01:42<02:41, 13.46s/it]"
     ]
    },
    {
     "name": "stdout",
     "output_type": "stream",
     "text": [
      "[100]\tcv_agg's binary_logloss: 0.051229 + 0.0199747\n",
      "[200]\tcv_agg's binary_logloss: 0.0446845 + 0.023769\n"
     ]
    },
    {
     "name": "stderr",
     "output_type": "stream",
     "text": [
      "num_leaves, val_score: 0.043895:  45%|####5     | 9/20 [01:51<02:13, 12.11s/it]\u001b[32m[I 2021-10-20 14:51:50,876]\u001b[0m Trial 15 finished with value: 0.044168778248060966 and parameters: {'num_leaves': 57}. Best is trial 15 with value: 0.044168778248060966.\u001b[0m\n",
      "num_leaves, val_score: 0.043895:  45%|####5     | 9/20 [01:51<02:13, 12.11s/it]"
     ]
    },
    {
     "name": "stdout",
     "output_type": "stream",
     "text": [
      "[100]\tcv_agg's binary_logloss: 0.048007 + 0.0208537\n"
     ]
    },
    {
     "name": "stderr",
     "output_type": "stream",
     "text": [
      "num_leaves, val_score: 0.043895:  50%|#####     | 10/20 [02:11<02:25, 14.59s/it]\u001b[32m[I 2021-10-20 14:52:11,269]\u001b[0m Trial 16 finished with value: 0.0462827001492625 and parameters: {'num_leaves': 210}. Best is trial 15 with value: 0.044168778248060966.\u001b[0m\n",
      "num_leaves, val_score: 0.043895:  50%|#####     | 10/20 [02:11<02:25, 14.59s/it]"
     ]
    },
    {
     "name": "stdout",
     "output_type": "stream",
     "text": [
      "[100]\tcv_agg's binary_logloss: 0.0455678 + 0.0200459\n"
     ]
    },
    {
     "name": "stderr",
     "output_type": "stream",
     "text": [
      "num_leaves, val_score: 0.043895:  55%|#####5    | 11/20 [02:35<02:35, 17.26s/it]\u001b[32m[I 2021-10-20 14:52:34,760]\u001b[0m Trial 17 finished with value: 0.04450865002768947 and parameters: {'num_leaves': 248}. Best is trial 15 with value: 0.044168778248060966.\u001b[0m\n",
      "num_leaves, val_score: 0.043895:  55%|#####5    | 11/20 [02:35<02:35, 17.26s/it]"
     ]
    },
    {
     "name": "stdout",
     "output_type": "stream",
     "text": [
      "[100]\tcv_agg's binary_logloss: 0.0474121 + 0.0212525\n"
     ]
    },
    {
     "name": "stderr",
     "output_type": "stream",
     "text": [
      "num_leaves, val_score: 0.043895:  60%|######    | 12/20 [03:00<02:35, 19.49s/it]\u001b[32m[I 2021-10-20 14:52:59,452]\u001b[0m Trial 18 finished with value: 0.04577895031376558 and parameters: {'num_leaves': 253}. Best is trial 15 with value: 0.044168778248060966.\u001b[0m\n",
      "num_leaves, val_score: 0.043895:  60%|######    | 12/20 [03:00<02:35, 19.49s/it]"
     ]
    },
    {
     "name": "stdout",
     "output_type": "stream",
     "text": [
      "[100]\tcv_agg's binary_logloss: 0.124586 + 0.0194691\n",
      "[200]\tcv_agg's binary_logloss: 0.0828927 + 0.0191886\n",
      "[300]\tcv_agg's binary_logloss: 0.0690672 + 0.020311\n",
      "[400]\tcv_agg's binary_logloss: 0.0617414 + 0.0203767\n",
      "[500]\tcv_agg's binary_logloss: 0.0569603 + 0.0208134\n",
      "[600]\tcv_agg's binary_logloss: 0.053514 + 0.0215471\n",
      "[700]\tcv_agg's binary_logloss: 0.0512891 + 0.0222607\n",
      "[800]\tcv_agg's binary_logloss: 0.0499488 + 0.0234359\n"
     ]
    },
    {
     "name": "stderr",
     "output_type": "stream",
     "text": [
      "num_leaves, val_score: 0.043895:  65%|######5   | 13/20 [03:04<01:45, 15.08s/it]\u001b[32m[I 2021-10-20 14:53:04,236]\u001b[0m Trial 19 finished with value: 0.04926862203277958 and parameters: {'num_leaves': 6}. Best is trial 15 with value: 0.044168778248060966.\u001b[0m\n",
      "num_leaves, val_score: 0.043895:  65%|######5   | 13/20 [03:04<01:45, 15.08s/it]"
     ]
    },
    {
     "name": "stdout",
     "output_type": "stream",
     "text": [
      "[100]\tcv_agg's binary_logloss: 0.0481013 + 0.0210686\n"
     ]
    },
    {
     "name": "stderr",
     "output_type": "stream",
     "text": [
      "num_leaves, val_score: 0.043895:  70%|#######   | 14/20 [03:18<01:27, 14.62s/it]\u001b[32m[I 2021-10-20 14:53:17,774]\u001b[0m Trial 20 finished with value: 0.04532524020328888 and parameters: {'num_leaves': 124}. Best is trial 15 with value: 0.044168778248060966.\u001b[0m\n",
      "num_leaves, val_score: 0.043895:  70%|#######   | 14/20 [03:18<01:27, 14.62s/it]"
     ]
    },
    {
     "name": "stdout",
     "output_type": "stream",
     "text": [
      "[100]\tcv_agg's binary_logloss: 0.0470754 + 0.0208067\n"
     ]
    },
    {
     "name": "stderr",
     "output_type": "stream",
     "text": [
      "num_leaves, val_score: 0.043895:  75%|#######5  | 15/20 [03:41<01:25, 17.20s/it]\u001b[32m[I 2021-10-20 14:53:40,990]\u001b[0m Trial 21 finished with value: 0.04527954501311957 and parameters: {'num_leaves': 237}. Best is trial 15 with value: 0.044168778248060966.\u001b[0m\n",
      "num_leaves, val_score: 0.043895:  75%|#######5  | 15/20 [03:41<01:25, 17.20s/it]"
     ]
    },
    {
     "name": "stdout",
     "output_type": "stream",
     "text": [
      "[100]\tcv_agg's binary_logloss: 0.0532983 + 0.0199881\n",
      "[200]\tcv_agg's binary_logloss: 0.0443133 + 0.0235948\n"
     ]
    },
    {
     "name": "stderr",
     "output_type": "stream",
     "text": [
      "num_leaves, val_score: 0.043895:  80%|########  | 16/20 [03:50<00:58, 14.66s/it]\u001b[32m[I 2021-10-20 14:53:49,746]\u001b[0m Trial 22 finished with value: 0.04418920847551505 and parameters: {'num_leaves': 47}. Best is trial 15 with value: 0.044168778248060966.\u001b[0m\n",
      "num_leaves, val_score: 0.043895:  80%|########  | 16/20 [03:50<00:58, 14.66s/it]"
     ]
    },
    {
     "name": "stdout",
     "output_type": "stream",
     "text": [
      "[100]\tcv_agg's binary_logloss: 0.0528874 + 0.0196765\n",
      "[200]\tcv_agg's binary_logloss: 0.0455181 + 0.0232181\n"
     ]
    },
    {
     "name": "stderr",
     "output_type": "stream",
     "text": [
      "num_leaves, val_score: 0.043895:  85%|########5 | 17/20 [03:58<00:38, 12.67s/it]\u001b[32m[I 2021-10-20 14:53:57,766]\u001b[0m Trial 23 finished with value: 0.04527548004628611 and parameters: {'num_leaves': 50}. Best is trial 15 with value: 0.044168778248060966.\u001b[0m\n",
      "num_leaves, val_score: 0.043895:  85%|########5 | 17/20 [03:58<00:38, 12.67s/it]"
     ]
    },
    {
     "name": "stdout",
     "output_type": "stream",
     "text": [
      "[100]\tcv_agg's binary_logloss: 0.0584676 + 0.0197426\n",
      "[200]\tcv_agg's binary_logloss: 0.0452008 + 0.0225494\n"
     ]
    },
    {
     "name": "stderr",
     "output_type": "stream",
     "text": [
      "num_leaves, val_score: 0.043895:  90%|######### | 18/20 [04:05<00:22, 11.10s/it]\u001b[32m[I 2021-10-20 14:54:05,197]\u001b[0m Trial 24 finished with value: 0.044071311788106374 and parameters: {'num_leaves': 33}. Best is trial 24 with value: 0.044071311788106374.\u001b[0m\n",
      "num_leaves, val_score: 0.043895:  90%|######### | 18/20 [04:05<00:22, 11.10s/it]"
     ]
    },
    {
     "name": "stdout",
     "output_type": "stream",
     "text": [
      "[100]\tcv_agg's binary_logloss: 0.0487529 + 0.0218487\n"
     ]
    },
    {
     "name": "stderr",
     "output_type": "stream",
     "text": [
      "num_leaves, val_score: 0.043895:  95%|#########5| 19/20 [04:16<00:10, 10.97s/it]\u001b[32m[I 2021-10-20 14:54:15,855]\u001b[0m Trial 25 finished with value: 0.04531481594770999 and parameters: {'num_leaves': 94}. Best is trial 24 with value: 0.044071311788106374.\u001b[0m\n",
      "num_leaves, val_score: 0.043895:  95%|#########5| 19/20 [04:16<00:10, 10.97s/it]"
     ]
    },
    {
     "name": "stdout",
     "output_type": "stream",
     "text": [
      "[100]\tcv_agg's binary_logloss: 0.0600322 + 0.0185593\n",
      "[200]\tcv_agg's binary_logloss: 0.0454055 + 0.0213857\n",
      "[300]\tcv_agg's binary_logloss: 0.043942 + 0.0246527\n"
     ]
    },
    {
     "name": "stderr",
     "output_type": "stream",
     "text": [
      "num_leaves, val_score: 0.043793: 100%|##########| 20/20 [04:23<00:00,  9.78s/it]\u001b[32m[I 2021-10-20 14:54:22,851]\u001b[0m Trial 26 finished with value: 0.043792677052452 and parameters: {'num_leaves': 28}. Best is trial 26 with value: 0.043792677052452.\u001b[0m\n",
      "num_leaves, val_score: 0.043793: 100%|##########| 20/20 [04:23<00:00, 13.17s/it]\n",
      "bagging, val_score: 0.043793:   0%|          | 0/10 [00:00<?, ?it/s]"
     ]
    },
    {
     "name": "stdout",
     "output_type": "stream",
     "text": [
      "[100]\tcv_agg's binary_logloss: 0.0624894 + 0.0200715\n",
      "[200]\tcv_agg's binary_logloss: 0.0475215 + 0.0231739\n",
      "[300]\tcv_agg's binary_logloss: 0.0461853 + 0.0259107\n"
     ]
    },
    {
     "name": "stderr",
     "output_type": "stream",
     "text": [
      "bagging, val_score: 0.043793:  10%|#         | 1/10 [00:09<01:28,  9.84s/it]\u001b[32m[I 2021-10-20 14:54:32,693]\u001b[0m Trial 27 finished with value: 0.045923677011767014 and parameters: {'bagging_fraction': 0.5143092366591314, 'bagging_freq': 4}. Best is trial 27 with value: 0.045923677011767014.\u001b[0m\n",
      "bagging, val_score: 0.043793:  10%|#         | 1/10 [00:09<01:28,  9.84s/it]"
     ]
    },
    {
     "name": "stdout",
     "output_type": "stream",
     "text": [
      "[100]\tcv_agg's binary_logloss: 0.0618748 + 0.020239\n",
      "[200]\tcv_agg's binary_logloss: 0.0486241 + 0.0234215\n"
     ]
    },
    {
     "name": "stderr",
     "output_type": "stream",
     "text": [
      "bagging, val_score: 0.043793:  20%|##        | 2/10 [00:18<01:15,  9.46s/it]\u001b[32m[I 2021-10-20 14:54:41,267]\u001b[0m Trial 28 finished with value: 0.04669887416733144 and parameters: {'bagging_fraction': 0.45458509878936576, 'bagging_freq': 4}. Best is trial 27 with value: 0.045923677011767014.\u001b[0m\n",
      "bagging, val_score: 0.043793:  20%|##        | 2/10 [00:18<01:15,  9.46s/it]"
     ]
    },
    {
     "name": "stdout",
     "output_type": "stream",
     "text": [
      "[100]\tcv_agg's binary_logloss: 0.0590355 + 0.0190742\n",
      "[200]\tcv_agg's binary_logloss: 0.0444755 + 0.0219212\n",
      "[300]\tcv_agg's binary_logloss: 0.0435151 + 0.0248947\n"
     ]
    },
    {
     "name": "stderr",
     "output_type": "stream",
     "text": [
      "bagging, val_score: 0.043170:  30%|###       | 3/10 [00:27<01:04,  9.21s/it]\u001b[32m[I 2021-10-20 14:54:49,884]\u001b[0m Trial 29 finished with value: 0.04316997077392659 and parameters: {'bagging_fraction': 0.7760932959906737, 'bagging_freq': 7}. Best is trial 29 with value: 0.04316997077392659.\u001b[0m\n",
      "bagging, val_score: 0.043170:  30%|###       | 3/10 [00:27<01:04,  9.21s/it]"
     ]
    },
    {
     "name": "stdout",
     "output_type": "stream",
     "text": [
      "[100]\tcv_agg's binary_logloss: 0.0601469 + 0.0193496\n",
      "[200]\tcv_agg's binary_logloss: 0.0462227 + 0.0225244\n"
     ]
    },
    {
     "name": "stderr",
     "output_type": "stream",
     "text": [
      "bagging, val_score: 0.043170:  40%|####      | 4/10 [00:33<00:51,  8.51s/it]\u001b[32m[I 2021-10-20 14:54:56,759]\u001b[0m Trial 30 finished with value: 0.0441123420345266 and parameters: {'bagging_fraction': 0.74977235340036, 'bagging_freq': 1}. Best is trial 29 with value: 0.04316997077392659.\u001b[0m\n",
      "bagging, val_score: 0.043170:  40%|####      | 4/10 [00:33<00:51,  8.51s/it]"
     ]
    },
    {
     "name": "stdout",
     "output_type": "stream",
     "text": [
      "[300]\tcv_agg's binary_logloss: 0.0446297 + 0.0243224\n",
      "[100]\tcv_agg's binary_logloss: 0.0604795 + 0.0186482\n",
      "[200]\tcv_agg's binary_logloss: 0.0466302 + 0.0222518\n",
      "[300]\tcv_agg's binary_logloss: 0.0445538 + 0.0247233\n"
     ]
    },
    {
     "name": "stderr",
     "output_type": "stream",
     "text": [
      "bagging, val_score: 0.043170:  50%|#####     | 5/10 [00:42<00:42,  8.54s/it]\u001b[32m[I 2021-10-20 14:55:05,360]\u001b[0m Trial 31 finished with value: 0.04417516826599504 and parameters: {'bagging_fraction': 0.7245567994068107, 'bagging_freq': 7}. Best is trial 29 with value: 0.04316997077392659.\u001b[0m\n",
      "bagging, val_score: 0.043170:  50%|#####     | 5/10 [00:42<00:42,  8.54s/it]"
     ]
    },
    {
     "name": "stdout",
     "output_type": "stream",
     "text": [
      "[100]\tcv_agg's binary_logloss: 0.0596361 + 0.0195516\n",
      "[200]\tcv_agg's binary_logloss: 0.0448876 + 0.0211313\n",
      "[300]\tcv_agg's binary_logloss: 0.0426143 + 0.0237701\n"
     ]
    },
    {
     "name": "stderr",
     "output_type": "stream",
     "text": [
      "bagging, val_score: 0.042394:  60%|######    | 6/10 [00:51<00:35,  8.82s/it]\u001b[32m[I 2021-10-20 14:55:14,827]\u001b[0m Trial 32 finished with value: 0.04239368928765934 and parameters: {'bagging_fraction': 0.768023517992883, 'bagging_freq': 5}. Best is trial 32 with value: 0.04239368928765934.\u001b[0m\n",
      "bagging, val_score: 0.042394:  60%|######    | 6/10 [00:51<00:35,  8.82s/it]"
     ]
    },
    {
     "name": "stdout",
     "output_type": "stream",
     "text": [
      "[100]\tcv_agg's binary_logloss: 0.0635493 + 0.0203712\n",
      "[200]\tcv_agg's binary_logloss: 0.0498558 + 0.0229506\n",
      "[300]\tcv_agg's binary_logloss: 0.047424 + 0.0240931\n"
     ]
    },
    {
     "name": "stderr",
     "output_type": "stream",
     "text": [
      "bagging, val_score: 0.042394:  70%|#######   | 7/10 [01:01<00:27,  9.06s/it]\u001b[32m[I 2021-10-20 14:55:24,468]\u001b[0m Trial 33 finished with value: 0.047115096905061285 and parameters: {'bagging_fraction': 0.47668952998421427, 'bagging_freq': 4}. Best is trial 32 with value: 0.04239368928765934.\u001b[0m\n",
      "bagging, val_score: 0.042394:  70%|#######   | 7/10 [01:01<00:27,  9.06s/it]"
     ]
    },
    {
     "name": "stdout",
     "output_type": "stream",
     "text": [
      "[100]\tcv_agg's binary_logloss: 0.0600838 + 0.0182927\n",
      "[200]\tcv_agg's binary_logloss: 0.0465327 + 0.0217496\n",
      "[300]\tcv_agg's binary_logloss: 0.0448043 + 0.0238095\n"
     ]
    },
    {
     "name": "stderr",
     "output_type": "stream",
     "text": [
      "bagging, val_score: 0.042394:  80%|########  | 8/10 [01:11<00:18,  9.33s/it]\u001b[32m[I 2021-10-20 14:55:34,423]\u001b[0m Trial 34 finished with value: 0.04468503222910254 and parameters: {'bagging_fraction': 0.5702372714030685, 'bagging_freq': 4}. Best is trial 32 with value: 0.04239368928765934.\u001b[0m\n",
      "bagging, val_score: 0.042394:  80%|########  | 8/10 [01:11<00:18,  9.33s/it]"
     ]
    },
    {
     "name": "stdout",
     "output_type": "stream",
     "text": [
      "[100]\tcv_agg's binary_logloss: 0.0599626 + 0.0188269\n",
      "[200]\tcv_agg's binary_logloss: 0.0454427 + 0.0214032\n",
      "[300]\tcv_agg's binary_logloss: 0.0429406 + 0.0229472\n"
     ]
    },
    {
     "name": "stderr",
     "output_type": "stream",
     "text": [
      "bagging, val_score: 0.042394:  90%|######### | 9/10 [01:20<00:09,  9.07s/it]\u001b[32m[I 2021-10-20 14:55:42,888]\u001b[0m Trial 35 finished with value: 0.0427347433569727 and parameters: {'bagging_fraction': 0.9449678817357973, 'bagging_freq': 7}. Best is trial 32 with value: 0.04239368928765934.\u001b[0m\n",
      "bagging, val_score: 0.042394:  90%|######### | 9/10 [01:20<00:09,  9.07s/it]"
     ]
    },
    {
     "name": "stdout",
     "output_type": "stream",
     "text": [
      "[100]\tcv_agg's binary_logloss: 0.0608648 + 0.0205674\n",
      "[200]\tcv_agg's binary_logloss: 0.0459521 + 0.0229574\n"
     ]
    },
    {
     "name": "stderr",
     "output_type": "stream",
     "text": [
      "bagging, val_score: 0.042394: 100%|##########| 10/10 [01:29<00:00,  9.23s/it]\u001b[32m[I 2021-10-20 14:55:52,478]\u001b[0m Trial 36 finished with value: 0.04431675976709664 and parameters: {'bagging_fraction': 0.6027848503321466, 'bagging_freq': 3}. Best is trial 32 with value: 0.04239368928765934.\u001b[0m\n",
      "bagging, val_score: 0.042394: 100%|##########| 10/10 [01:29<00:00,  8.96s/it]\n",
      "feature_fraction_stage2, val_score: 0.042394:   0%|          | 0/6 [00:00<?, ?it/s]"
     ]
    },
    {
     "name": "stdout",
     "output_type": "stream",
     "text": [
      "[100]\tcv_agg's binary_logloss: 0.0635416 + 0.0188214\n",
      "[200]\tcv_agg's binary_logloss: 0.0467307 + 0.0209357\n",
      "[300]\tcv_agg's binary_logloss: 0.0435402 + 0.0231134\n"
     ]
    },
    {
     "name": "stderr",
     "output_type": "stream",
     "text": [
      "feature_fraction_stage2, val_score: 0.042394:  17%|#6        | 1/6 [00:09<00:45,  9.16s/it]\u001b[32m[I 2021-10-20 14:56:01,636]\u001b[0m Trial 37 finished with value: 0.043468261447659674 and parameters: {'feature_fraction': 0.42}. Best is trial 37 with value: 0.043468261447659674.\u001b[0m\n",
      "feature_fraction_stage2, val_score: 0.042394:  17%|#6        | 1/6 [00:09<00:45,  9.16s/it]"
     ]
    },
    {
     "name": "stdout",
     "output_type": "stream",
     "text": [
      "[100]\tcv_agg's binary_logloss: 0.0583492 + 0.0193686\n",
      "[200]\tcv_agg's binary_logloss: 0.0450514 + 0.0228568\n"
     ]
    },
    {
     "name": "stderr",
     "output_type": "stream",
     "text": [
      "feature_fraction_stage2, val_score: 0.042394:  33%|###3      | 2/6 [00:17<00:35,  8.83s/it]\u001b[32m[I 2021-10-20 14:56:09,719]\u001b[0m Trial 38 finished with value: 0.04411045712557391 and parameters: {'feature_fraction': 0.58}. Best is trial 37 with value: 0.043468261447659674.\u001b[0m\n",
      "feature_fraction_stage2, val_score: 0.042394:  33%|###3      | 2/6 [00:17<00:35,  8.83s/it]"
     ]
    },
    {
     "name": "stdout",
     "output_type": "stream",
     "text": [
      "[100]\tcv_agg's binary_logloss: 0.0591019 + 0.0198621\n",
      "[200]\tcv_agg's binary_logloss: 0.0444982 + 0.0221929\n"
     ]
    },
    {
     "name": "stderr",
     "output_type": "stream",
     "text": [
      "feature_fraction_stage2, val_score: 0.042394:  50%|#####     | 3/6 [00:26<00:26,  8.84s/it]\u001b[32m[I 2021-10-20 14:56:18,571]\u001b[0m Trial 39 finished with value: 0.04277319180128703 and parameters: {'feature_fraction': 0.5479999999999999}. Best is trial 39 with value: 0.04277319180128703.\u001b[0m\n",
      "feature_fraction_stage2, val_score: 0.042394:  50%|#####     | 3/6 [00:26<00:26,  8.84s/it]"
     ]
    },
    {
     "name": "stdout",
     "output_type": "stream",
     "text": [
      "[300]\tcv_agg's binary_logloss: 0.0431796 + 0.0241835\n",
      "[100]\tcv_agg's binary_logloss: 0.059497 + 0.0199942\n",
      "[200]\tcv_agg's binary_logloss: 0.0455152 + 0.0219173\n"
     ]
    },
    {
     "name": "stderr",
     "output_type": "stream",
     "text": [
      "feature_fraction_stage2, val_score: 0.042394:  67%|######6   | 4/6 [00:34<00:17,  8.76s/it]\u001b[32m[I 2021-10-20 14:56:27,161]\u001b[0m Trial 40 finished with value: 0.043265355242075455 and parameters: {'feature_fraction': 0.516}. Best is trial 39 with value: 0.04277319180128703.\u001b[0m\n",
      "feature_fraction_stage2, val_score: 0.042394:  67%|######6   | 4/6 [00:34<00:17,  8.76s/it]"
     ]
    },
    {
     "name": "stdout",
     "output_type": "stream",
     "text": [
      "[100]\tcv_agg's binary_logloss: 0.0620978 + 0.0193546\n",
      "[200]\tcv_agg's binary_logloss: 0.0452318 + 0.0222682\n"
     ]
    },
    {
     "name": "stderr",
     "output_type": "stream",
     "text": [
      "feature_fraction_stage2, val_score: 0.042394:  83%|########3 | 5/6 [00:43<00:08,  8.69s/it]\u001b[32m[I 2021-10-20 14:56:35,691]\u001b[0m Trial 41 finished with value: 0.04380267746514339 and parameters: {'feature_fraction': 0.484}. Best is trial 39 with value: 0.04277319180128703.\u001b[0m\n",
      "feature_fraction_stage2, val_score: 0.042394:  83%|########3 | 5/6 [00:43<00:08,  8.69s/it]"
     ]
    },
    {
     "name": "stdout",
     "output_type": "stream",
     "text": [
      "[100]\tcv_agg's binary_logloss: 0.0626538 + 0.0196237\n",
      "[200]\tcv_agg's binary_logloss: 0.0460936 + 0.0204673\n"
     ]
    },
    {
     "name": "stderr",
     "output_type": "stream",
     "text": [
      "feature_fraction_stage2, val_score: 0.042394: 100%|##########| 6/6 [00:51<00:00,  8.63s/it]\u001b[32m[I 2021-10-20 14:56:44,181]\u001b[0m Trial 42 finished with value: 0.04425410278752919 and parameters: {'feature_fraction': 0.45199999999999996}. Best is trial 39 with value: 0.04277319180128703.\u001b[0m\n",
      "feature_fraction_stage2, val_score: 0.042394: 100%|##########| 6/6 [00:51<00:00,  8.62s/it]\n",
      "regularization_factors, val_score: 0.042394:   0%|          | 0/20 [00:00<?, ?it/s]"
     ]
    },
    {
     "name": "stdout",
     "output_type": "stream",
     "text": [
      "[100]\tcv_agg's binary_logloss: 0.0612338 + 0.0193488\n",
      "[200]\tcv_agg's binary_logloss: 0.0463112 + 0.021561\n",
      "[300]\tcv_agg's binary_logloss: 0.0440412 + 0.0231892\n"
     ]
    },
    {
     "name": "stderr",
     "output_type": "stream",
     "text": [
      "regularization_factors, val_score: 0.042394:   5%|5         | 1/20 [00:09<03:05,  9.74s/it]\u001b[32m[I 2021-10-20 14:56:53,928]\u001b[0m Trial 43 finished with value: 0.043952124306429446 and parameters: {'lambda_l1': 7.121840242002978e-06, 'lambda_l2': 0.37759993875826053}. Best is trial 43 with value: 0.043952124306429446.\u001b[0m\n",
      "regularization_factors, val_score: 0.042394:   5%|5         | 1/20 [00:09<03:05,  9.74s/it]"
     ]
    },
    {
     "name": "stdout",
     "output_type": "stream",
     "text": [
      "[100]\tcv_agg's binary_logloss: 0.0737879 + 0.0196632\n",
      "[200]\tcv_agg's binary_logloss: 0.0547686 + 0.0206432\n",
      "[300]\tcv_agg's binary_logloss: 0.0493874 + 0.0212814\n",
      "[400]\tcv_agg's binary_logloss: 0.0470481 + 0.0217468\n",
      "[500]\tcv_agg's binary_logloss: 0.046018 + 0.0224013\n",
      "[600]\tcv_agg's binary_logloss: 0.0452102 + 0.0227787\n"
     ]
    },
    {
     "name": "stderr",
     "output_type": "stream",
     "text": [
      "regularization_factors, val_score: 0.042394:  10%|#         | 2/20 [00:29<03:51, 12.85s/it]\u001b[32m[I 2021-10-20 14:57:14,009]\u001b[0m Trial 44 finished with value: 0.04492691950499067 and parameters: {'lambda_l1': 0.00016650850957535752, 'lambda_l2': 7.079224544624281}. Best is trial 43 with value: 0.043952124306429446.\u001b[0m\n",
      "regularization_factors, val_score: 0.042394:  10%|#         | 2/20 [00:29<03:51, 12.85s/it]"
     ]
    },
    {
     "name": "stdout",
     "output_type": "stream",
     "text": [
      "[100]\tcv_agg's binary_logloss: 0.0598769 + 0.019133\n",
      "[200]\tcv_agg's binary_logloss: 0.0457431 + 0.021295\n",
      "[300]\tcv_agg's binary_logloss: 0.0444437 + 0.023732\n"
     ]
    },
    {
     "name": "stderr",
     "output_type": "stream",
     "text": [
      "regularization_factors, val_score: 0.042394:  15%|#5        | 3/20 [00:39<03:22, 11.90s/it]\u001b[32m[I 2021-10-20 14:57:23,713]\u001b[0m Trial 45 finished with value: 0.044364499586335225 and parameters: {'lambda_l1': 0.04238529663170221, 'lambda_l2': 1.0527620632553753e-07}. Best is trial 43 with value: 0.043952124306429446.\u001b[0m\n",
      "regularization_factors, val_score: 0.042394:  15%|#5        | 3/20 [00:39<03:22, 11.90s/it]"
     ]
    },
    {
     "name": "stdout",
     "output_type": "stream",
     "text": [
      "[100]\tcv_agg's binary_logloss: 0.0589623 + 0.0196683\n",
      "[200]\tcv_agg's binary_logloss: 0.0449257 + 0.0216288\n"
     ]
    },
    {
     "name": "stderr",
     "output_type": "stream",
     "text": [
      "regularization_factors, val_score: 0.042394:  20%|##        | 4/20 [00:49<03:02, 11.38s/it]\u001b[32m[I 2021-10-20 14:57:33,878]\u001b[0m Trial 46 finished with value: 0.04327443795647188 and parameters: {'lambda_l1': 8.461295323823178e-05, 'lambda_l2': 3.482476010838771e-06}. Best is trial 46 with value: 0.04327443795647188.\u001b[0m\n",
      "regularization_factors, val_score: 0.042394:  20%|##        | 4/20 [00:49<03:02, 11.38s/it]"
     ]
    },
    {
     "name": "stdout",
     "output_type": "stream",
     "text": [
      "[100]\tcv_agg's binary_logloss: 0.0602374 + 0.0202634\n",
      "[200]\tcv_agg's binary_logloss: 0.0454284 + 0.0219415\n"
     ]
    },
    {
     "name": "stderr",
     "output_type": "stream",
     "text": [
      "regularization_factors, val_score: 0.042394:  25%|##5       | 5/20 [00:58<02:39, 10.63s/it]\u001b[32m[I 2021-10-20 14:57:42,769]\u001b[0m Trial 47 finished with value: 0.04376057839245478 and parameters: {'lambda_l1': 9.973552121087879e-06, 'lambda_l2': 5.168241980298263e-05}. Best is trial 46 with value: 0.04327443795647188.\u001b[0m\n",
      "regularization_factors, val_score: 0.042394:  25%|##5       | 5/20 [00:58<02:39, 10.63s/it]"
     ]
    },
    {
     "name": "stdout",
     "output_type": "stream",
     "text": [
      "[300]\tcv_agg's binary_logloss: 0.0440935 + 0.0250292\n",
      "[100]\tcv_agg's binary_logloss: 0.0604543 + 0.0195968\n",
      "[200]\tcv_agg's binary_logloss: 0.0454754 + 0.0214215\n",
      "[300]\tcv_agg's binary_logloss: 0.0437187 + 0.0234886\n"
     ]
    },
    {
     "name": "stderr",
     "output_type": "stream",
     "text": [
      "regularization_factors, val_score: 0.042394:  30%|###       | 6/20 [01:08<02:24, 10.34s/it]\u001b[32m[I 2021-10-20 14:57:52,417]\u001b[0m Trial 48 finished with value: 0.04366920083132863 and parameters: {'lambda_l1': 0.06591091911076344, 'lambda_l2': 7.409781646234089e-07}. Best is trial 46 with value: 0.04327443795647188.\u001b[0m\n",
      "regularization_factors, val_score: 0.042394:  30%|###       | 6/20 [01:08<02:24, 10.34s/it]"
     ]
    },
    {
     "name": "stdout",
     "output_type": "stream",
     "text": [
      "[100]\tcv_agg's binary_logloss: 0.0594501 + 0.0189521\n",
      "[200]\tcv_agg's binary_logloss: 0.0456663 + 0.0215201\n"
     ]
    },
    {
     "name": "stderr",
     "output_type": "stream",
     "text": [
      "regularization_factors, val_score: 0.042394:  35%|###5      | 7/20 [01:17<02:08,  9.89s/it]\u001b[32m[I 2021-10-20 14:58:01,270]\u001b[0m Trial 49 finished with value: 0.04379690461997577 and parameters: {'lambda_l1': 0.04219178324974648, 'lambda_l2': 0.07939843541977772}. Best is trial 46 with value: 0.04327443795647188.\u001b[0m\n",
      "regularization_factors, val_score: 0.042394:  35%|###5      | 7/20 [01:17<02:08,  9.89s/it]"
     ]
    },
    {
     "name": "stdout",
     "output_type": "stream",
     "text": [
      "[300]\tcv_agg's binary_logloss: 0.0438856 + 0.0232983\n",
      "[100]\tcv_agg's binary_logloss: 0.0596763 + 0.0195411\n",
      "[200]\tcv_agg's binary_logloss: 0.0453925 + 0.0216882\n",
      "[300]\tcv_agg's binary_logloss: 0.0438079 + 0.0237147\n"
     ]
    },
    {
     "name": "stderr",
     "output_type": "stream",
     "text": [
      "regularization_factors, val_score: 0.042394:  40%|####      | 8/20 [01:26<01:57,  9.80s/it]\u001b[32m[I 2021-10-20 14:58:10,850]\u001b[0m Trial 50 finished with value: 0.043563419056244675 and parameters: {'lambda_l1': 4.769760127546131e-07, 'lambda_l2': 0.00015021845899082249}. Best is trial 46 with value: 0.04327443795647188.\u001b[0m\n",
      "regularization_factors, val_score: 0.042394:  40%|####      | 8/20 [01:26<01:57,  9.80s/it]"
     ]
    },
    {
     "name": "stdout",
     "output_type": "stream",
     "text": [
      "[100]\tcv_agg's binary_logloss: 0.0587915 + 0.0185556\n",
      "[200]\tcv_agg's binary_logloss: 0.0442252 + 0.020152\n",
      "[300]\tcv_agg's binary_logloss: 0.0431013 + 0.0224358\n"
     ]
    },
    {
     "name": "stderr",
     "output_type": "stream",
     "text": [
      "regularization_factors, val_score: 0.042394:  45%|####5     | 9/20 [01:35<01:46,  9.64s/it]\u001b[32m[I 2021-10-20 14:58:20,114]\u001b[0m Trial 51 finished with value: 0.04291275604436036 and parameters: {'lambda_l1': 4.392078325415058e-05, 'lambda_l2': 0.001159004552484559}. Best is trial 51 with value: 0.04291275604436036.\u001b[0m\n",
      "regularization_factors, val_score: 0.042394:  45%|####5     | 9/20 [01:35<01:46,  9.64s/it]"
     ]
    },
    {
     "name": "stdout",
     "output_type": "stream",
     "text": [
      "[100]\tcv_agg's binary_logloss: 0.0593934 + 0.0196343\n",
      "[200]\tcv_agg's binary_logloss: 0.0457219 + 0.0224686\n"
     ]
    },
    {
     "name": "stderr",
     "output_type": "stream",
     "text": [
      "regularization_factors, val_score: 0.042394:  50%|#####     | 10/20 [01:44<01:33,  9.39s/it]\u001b[32m[I 2021-10-20 14:58:28,916]\u001b[0m Trial 52 finished with value: 0.04392718911709903 and parameters: {'lambda_l1': 3.3717739251631124e-05, 'lambda_l2': 1.7695808154179644e-05}. Best is trial 51 with value: 0.04291275604436036.\u001b[0m\n",
      "regularization_factors, val_score: 0.042394:  50%|#####     | 10/20 [01:44<01:33,  9.39s/it]"
     ]
    },
    {
     "name": "stdout",
     "output_type": "stream",
     "text": [
      "[100]\tcv_agg's binary_logloss: 0.0872107 + 0.019674\n",
      "[200]\tcv_agg's binary_logloss: 0.0711097 + 0.019946\n"
     ]
    },
    {
     "name": "stderr",
     "output_type": "stream",
     "text": [
      "regularization_factors, val_score: 0.042394:  55%|#####5    | 11/20 [01:51<01:16,  8.47s/it]\u001b[32m[I 2021-10-20 14:58:35,259]\u001b[0m Trial 53 finished with value: 0.06778446005482158 and parameters: {'lambda_l1': 6.492994194619123, 'lambda_l2': 0.007867817182410097}. Best is trial 51 with value: 0.04291275604436036.\u001b[0m\n",
      "regularization_factors, val_score: 0.042394:  55%|#####5    | 11/20 [01:51<01:16,  8.47s/it]"
     ]
    },
    {
     "name": "stdout",
     "output_type": "stream",
     "text": [
      "[100]\tcv_agg's binary_logloss: 0.0592618 + 0.0189994\n",
      "[200]\tcv_agg's binary_logloss: 0.0451247 + 0.021519\n"
     ]
    },
    {
     "name": "stderr",
     "output_type": "stream",
     "text": [
      "regularization_factors, val_score: 0.042394:  60%|######    | 12/20 [01:59<01:07,  8.45s/it]\u001b[32m[I 2021-10-20 14:58:43,644]\u001b[0m Trial 54 finished with value: 0.04362311680546592 and parameters: {'lambda_l1': 1.3409339034148405e-08, 'lambda_l2': 0.0020910576137112757}. Best is trial 51 with value: 0.04291275604436036.\u001b[0m\n",
      "regularization_factors, val_score: 0.042394:  60%|######    | 12/20 [01:59<01:07,  8.45s/it]"
     ]
    },
    {
     "name": "stdout",
     "output_type": "stream",
     "text": [
      "[100]\tcv_agg's binary_logloss: 0.0587205 + 0.0191529\n",
      "[200]\tcv_agg's binary_logloss: 0.0443349 + 0.021224\n",
      "[300]\tcv_agg's binary_logloss: 0.043033 + 0.0236853\n"
     ]
    },
    {
     "name": "stderr",
     "output_type": "stream",
     "text": [
      "regularization_factors, val_score: 0.042394:  65%|######5   | 13/20 [02:09<01:02,  8.98s/it]\u001b[32m[I 2021-10-20 14:58:53,865]\u001b[0m Trial 55 finished with value: 0.04294238948463286 and parameters: {'lambda_l1': 0.0018574930076474877, 'lambda_l2': 2.9668930334923116e-06}. Best is trial 51 with value: 0.04291275604436036.\u001b[0m\n",
      "regularization_factors, val_score: 0.042394:  65%|######5   | 13/20 [02:09<01:02,  8.98s/it]"
     ]
    },
    {
     "name": "stdout",
     "output_type": "stream",
     "text": [
      "[100]\tcv_agg's binary_logloss: 0.059317 + 0.0201378\n",
      "[200]\tcv_agg's binary_logloss: 0.0454481 + 0.0225141\n"
     ]
    },
    {
     "name": "stderr",
     "output_type": "stream",
     "text": [
      "regularization_factors, val_score: 0.042394:  70%|#######   | 14/20 [02:18<00:53,  8.96s/it]\u001b[32m[I 2021-10-20 14:59:02,771]\u001b[0m Trial 56 finished with value: 0.043915214110590975 and parameters: {'lambda_l1': 0.006151736028304688, 'lambda_l2': 6.445955939898678e-08}. Best is trial 51 with value: 0.04291275604436036.\u001b[0m\n",
      "regularization_factors, val_score: 0.042394:  70%|#######   | 14/20 [02:18<00:53,  8.96s/it]"
     ]
    },
    {
     "name": "stdout",
     "output_type": "stream",
     "text": [
      "[100]\tcv_agg's binary_logloss: 0.0597403 + 0.020047\n",
      "[200]\tcv_agg's binary_logloss: 0.0456334 + 0.0222395\n"
     ]
    },
    {
     "name": "stderr",
     "output_type": "stream",
     "text": [
      "regularization_factors, val_score: 0.042394:  75%|#######5  | 15/20 [02:27<00:44,  8.95s/it]\u001b[32m[I 2021-10-20 14:59:11,709]\u001b[0m Trial 57 finished with value: 0.044281353565195795 and parameters: {'lambda_l1': 0.0017020331211321147, 'lambda_l2': 0.001234414784122694}. Best is trial 51 with value: 0.04291275604436036.\u001b[0m\n",
      "regularization_factors, val_score: 0.042394:  75%|#######5  | 15/20 [02:27<00:49,  9.84s/it]\n",
      "  0%|          | 0/5 [00:00<?, ?it/s]"
     ]
    },
    {
     "name": "stdout",
     "output_type": "stream",
     "text": [
      "[300]\tcv_agg's binary_logloss: 0.0443638 + 0.0249998\n",
      "Best score: 0.04239368928765934\n",
      "Best params: {'objective': 'binary', 'metric': 'binary_logloss', 'verbosity': -1, 'boosting_type': 'gbdt', 'device_type': 'gpu', 'feature_pre_filter': False, 'lambda_l1': 0.0, 'lambda_l2': 0.0, 'num_leaves': 28, 'feature_fraction': 0.5, 'bagging_fraction': 0.768023517992883, 'bagging_freq': 5, 'min_child_samples': 20}\n",
      "  Params: \n",
      "    objective: binary\n",
      "    metric: binary_logloss\n",
      "    verbosity: -1\n",
      "    boosting_type: gbdt\n",
      "    device_type: gpu\n",
      "    feature_pre_filter: False\n",
      "    lambda_l1: 0.0\n",
      "    lambda_l2: 0.0\n",
      "    num_leaves: 28\n",
      "    feature_fraction: 0.5\n",
      "    bagging_fraction: 0.768023517992883\n",
      "    bagging_freq: 5\n",
      "    min_child_samples: 20\n"
     ]
    },
    {
     "name": "stderr",
     "output_type": "stream",
     "text": [
      "\n"
     ]
    }
   ],
   "source": [
    "import optuna.integration.lightgbm as lgb\n",
    "\n",
    "dtrain = lgb.Dataset(x_SM, label=y_SM)\n",
    "best_params, tuning_history = dict(), list()\n",
    "params = {\n",
    "        \"objective\": \"binary\",\n",
    "        \"metric\": \"binary_logloss\",\n",
    "        \"verbosity\": -1,\n",
    "        \"boosting_type\": \"gbdt\",\n",
    "        \"device_type\": \"gpu\",\n",
    "       \n",
    "    }\n",
    "\n",
    "tuner = lgb.LightGBMTunerCV(\n",
    "        params, dtrain, verbose_eval=100, early_stopping_rounds=25, folds=KFold(n_splits=4),time_budget=600\n",
    "        )\n",
    "    \n",
    "\n",
    "tuner.run()\n",
    "\n",
    "print(\"Best score:\", tuner.best_score)\n",
    "best_params = tuner.best_params\n",
    "print(\"Best params:\", best_params)\n",
    "print(\"  Params: \")\n",
    "for key, value in best_params.items():\n",
    "    print(\"    {}: {}\".format(key, value))"
   ]
  },
  {
   "cell_type": "code",
   "execution_count": 33,
   "metadata": {},
   "outputs": [
    {
     "name": "stdout",
     "output_type": "stream",
     "text": [
      "Best score: 0.04239368928765934\n",
      "Best params: {'objective': 'binary', 'metric': 'binary_logloss', 'verbosity': -1, 'boosting_type': 'gbdt', 'device_type': 'gpu', 'feature_pre_filter': False, 'lambda_l1': 0.0, 'lambda_l2': 0.0, 'num_leaves': 28, 'feature_fraction': 0.5, 'bagging_fraction': 0.768023517992883, 'bagging_freq': 5, 'min_child_samples': 20}\n",
      "  Params: \n",
      "    objective: binary\n",
      "    metric: binary_logloss\n",
      "    verbosity: -1\n",
      "    boosting_type: gbdt\n",
      "    device_type: gpu\n",
      "    feature_pre_filter: False\n",
      "    lambda_l1: 0.0\n",
      "    lambda_l2: 0.0\n",
      "    num_leaves: 28\n",
      "    feature_fraction: 0.5\n",
      "    bagging_fraction: 0.768023517992883\n",
      "    bagging_freq: 5\n",
      "    min_child_samples: 20\n"
     ]
    }
   ],
   "source": [
    "print(\"Best score:\", tuner.best_score)\n",
    "best_params = tuner.best_params\n",
    "print(\"Best params:\", best_params)\n",
    "print(\"  Params: \")\n",
    "for key, value in best_params.items():\n",
    "    print(\"    {}: {}\".format(key, value))"
   ]
  },
  {
   "cell_type": "code",
   "execution_count": 39,
   "metadata": {},
   "outputs": [],
   "source": [
    "def objective(trial):\n",
    "    dtrain = xgb.DMatrix(x_SM, label=y_SM)\n",
    "    param = {\n",
    "        'tree_method' : \"gpu_hist\",\n",
    "        'single_precision_histogram' :True,\n",
    "        \"verbosity\": 0,\n",
    "        \"objective\": \"binary:logistic\",\n",
    "        \"eval_metric\": \"logloss\",\n",
    "        # use exact for small dataset.\n",
    "        \"tree_method\": \"exact\",\n",
    "        # Dart booster is utilzing dropouts\n",
    "        \"booster\": trial.suggest_categorical(\"booster\", [\"gbtree\", \"dart\"]),\n",
    "        # L2 regularization weight.\n",
    "        \"lambda\": trial.suggest_float(\"lambda\", 1e-8, 1.0, log=True),\n",
    "        # L1 regularization weight.\n",
    "        \"alpha\": trial.suggest_float(\"alpha\", 1e-8, 1.0, log=True),\n",
    "        # sampling ratio for training data.\n",
    "        \"subsample\": trial.suggest_float(\"subsample\", 0.2, 1.0),\n",
    "        # sampling according to each tree.\n",
    "        \"colsample_bytree\": trial.suggest_float(\"colsample_bytree\", 0.2, 1.0),\n",
    "        \"learning_rate\" :trial.suggest_loguniform('learning_rate', .005, .05),\n",
    "        #\"n_estimators\" : trial.suggest_int('n_estimators', 100, 1500),\n",
    "        \"max_depth\" : trial.suggest_int('max_depth', 2, 20),\n",
    "        \"gamma\" : trial.suggest_loguniform(\"gamma\", 1e-8, 5.0),\n",
    "        \"min_child_weight\" :  trial.suggest_loguniform(\"min_child_weight\", .1, 10.),\n",
    "    }\n",
    "    if param[\"booster\"] == \"dart\":\n",
    "        param[\"sample_type\"] = trial.suggest_categorical(\"sample_type\", [\"uniform\", \"weighted\"])\n",
    "        param[\"normalize_type\"] = trial.suggest_categorical(\"normalize_type\", [\"tree\", \"forest\"])\n",
    "        param[\"rate_drop\"] = trial.suggest_float(\"rate_drop\", 1e-8, 1.0, log=True)\n",
    "        param[\"skip_drop\"] = trial.suggest_float(\"skip_drop\", 1e-8, 1.0, log=True)\n",
    "    \n",
    "    pruning_callback = optuna.integration.XGBoostPruningCallback(trial, \"test-logloss\")\n",
    "    history = xgb.cv(param, dtrain, num_boost_round=2000,\n",
    "                     early_stopping_rounds=50,shuffle=True,seed=1, callbacks=[pruning_callback])\n",
    "    log_loss = history[\"test-logloss-mean\"].values[-1]\n",
    "    return log_loss"
   ]
  },
  {
   "cell_type": "code",
   "execution_count": 42,
   "metadata": {},
   "outputs": [
    {
     "name": "stderr",
     "output_type": "stream",
     "text": [
      "\u001b[32m[I 2021-10-20 15:06:20,691]\u001b[0m A new study created in memory with name: no-name-0c486253-e0b0-426e-8f25-e48eb7f4e856\u001b[0m\n",
      "\u001b[32m[I 2021-10-20 15:29:23,873]\u001b[0m Trial 0 finished with value: 0.047392 and parameters: {'booster': 'dart', 'lambda': 0.011476724492995322, 'alpha': 1.6607275046124928e-06, 'subsample': 0.581427058583839, 'colsample_bytree': 0.8638939024846628, 'learning_rate': 0.014194689335050444, 'max_depth': 18, 'gamma': 0.002500646867019341, 'min_child_weight': 0.30301588482578984, 'sample_type': 'weighted', 'normalize_type': 'tree', 'rate_drop': 6.295191967554338e-08, 'skip_drop': 0.0009003946010892193}. Best is trial 0 with value: 0.047392.\u001b[0m\n",
      "\u001b[32m[I 2021-10-20 15:29:42,493]\u001b[0m Trial 1 finished with value: 0.044856 and parameters: {'booster': 'gbtree', 'lambda': 2.3800448570820594e-08, 'alpha': 7.892551478463991e-07, 'subsample': 0.7039214439109296, 'colsample_bytree': 0.32101687768840165, 'learning_rate': 0.011333510556773794, 'max_depth': 7, 'gamma': 0.0011133662222412252, 'min_child_weight': 1.2069104338293828}. Best is trial 1 with value: 0.044856.\u001b[0m\n",
      "\u001b[32m[I 2021-10-20 16:02:01,905]\u001b[0m Trial 2 finished with value: 0.07256366666666668 and parameters: {'booster': 'dart', 'lambda': 3.285709971711052e-08, 'alpha': 1.2678471369950728e-05, 'subsample': 0.646234546000094, 'colsample_bytree': 0.8158829852778762, 'learning_rate': 0.008924817478859539, 'max_depth': 5, 'gamma': 1.2710956080168434, 'min_child_weight': 6.298279825289114, 'sample_type': 'weighted', 'normalize_type': 'tree', 'rate_drop': 0.006939533544950436, 'skip_drop': 0.31370666459103325}. Best is trial 1 with value: 0.044856.\u001b[0m\n",
      "\u001b[32m[I 2021-10-20 17:59:23,888]\u001b[0m Trial 3 finished with value: 0.047199333333333336 and parameters: {'booster': 'dart', 'lambda': 5.383672839280978e-08, 'alpha': 6.678351814766509e-05, 'subsample': 0.7676866219134619, 'colsample_bytree': 0.7299062552959061, 'learning_rate': 0.007097433680208111, 'max_depth': 17, 'gamma': 1.402338924011154e-05, 'min_child_weight': 0.44535671815501887, 'sample_type': 'weighted', 'normalize_type': 'forest', 'rate_drop': 0.00015377976734239012, 'skip_drop': 2.3267820632281544e-06}. Best is trial 1 with value: 0.044856.\u001b[0m\n",
      "\u001b[32m[I 2021-10-20 17:59:37,877]\u001b[0m Trial 4 finished with value: 0.050089 and parameters: {'booster': 'gbtree', 'lambda': 0.002027651689537738, 'alpha': 3.9995025867997555e-08, 'subsample': 0.7268774093782913, 'colsample_bytree': 0.7717314509853519, 'learning_rate': 0.021569224279110545, 'max_depth': 14, 'gamma': 5.806077340376312e-07, 'min_child_weight': 0.16770667466984093}. Best is trial 1 with value: 0.044856.\u001b[0m\n",
      "\u001b[32m[I 2021-10-20 17:59:39,515]\u001b[0m Trial 5 pruned. Trial was pruned at iteration 37.\u001b[0m\n",
      "\u001b[32m[I 2021-10-20 17:59:49,388]\u001b[0m Trial 6 finished with value: 0.046149 and parameters: {'booster': 'gbtree', 'lambda': 5.1654751395448016e-05, 'alpha': 0.0037536239605948435, 'subsample': 0.6038001635792047, 'colsample_bytree': 0.7133135901715286, 'learning_rate': 0.03464716952525851, 'max_depth': 12, 'gamma': 8.989013450544766e-08, 'min_child_weight': 2.159070450605636}. Best is trial 1 with value: 0.044856.\u001b[0m\n",
      "\u001b[32m[I 2021-10-20 18:00:04,545]\u001b[0m Trial 7 finished with value: 0.043972000000000004 and parameters: {'booster': 'gbtree', 'lambda': 1.0596088645083525e-05, 'alpha': 0.009069004896588231, 'subsample': 0.8212275106314049, 'colsample_bytree': 0.7931359156987041, 'learning_rate': 0.022719070144699344, 'max_depth': 5, 'gamma': 0.20308734054050245, 'min_child_weight': 0.9668230839137714}. Best is trial 7 with value: 0.043972000000000004.\u001b[0m\n",
      "\u001b[32m[I 2021-10-20 18:15:10,934]\u001b[0m Trial 8 finished with value: 0.04690833333333333 and parameters: {'booster': 'dart', 'lambda': 2.2796291390667693e-08, 'alpha': 0.017600181312956566, 'subsample': 0.24752808620991296, 'colsample_bytree': 0.9655680435353251, 'learning_rate': 0.0226699157935172, 'max_depth': 12, 'gamma': 0.7965502321575925, 'min_child_weight': 0.12209890548454846, 'sample_type': 'weighted', 'normalize_type': 'forest', 'rate_drop': 0.000992852771506163, 'skip_drop': 0.0018384004816907635}. Best is trial 7 with value: 0.043972000000000004.\u001b[0m\n",
      "\u001b[32m[I 2021-10-20 18:15:10,985]\u001b[0m Trial 9 pruned. Trial was pruned at iteration 0.\u001b[0m\n",
      "\u001b[32m[I 2021-10-20 18:15:11,805]\u001b[0m Trial 10 pruned. Trial was pruned at iteration 129.\u001b[0m\n",
      "\u001b[32m[I 2021-10-20 18:15:11,865]\u001b[0m Trial 11 pruned. Trial was pruned at iteration 0.\u001b[0m\n",
      "\u001b[32m[I 2021-10-20 18:15:11,936]\u001b[0m Trial 12 pruned. Trial was pruned at iteration 0.\u001b[0m\n",
      "\u001b[32m[I 2021-10-20 18:15:11,994]\u001b[0m Trial 13 pruned. Trial was pruned at iteration 0.\u001b[0m\n",
      "\u001b[32m[I 2021-10-20 18:15:12,054]\u001b[0m Trial 14 pruned. Trial was pruned at iteration 0.\u001b[0m\n",
      "\u001b[32m[I 2021-10-20 18:15:12,116]\u001b[0m Trial 15 pruned. Trial was pruned at iteration 0.\u001b[0m\n",
      "\u001b[32m[I 2021-10-20 18:15:12,179]\u001b[0m Trial 16 pruned. Trial was pruned at iteration 0.\u001b[0m\n",
      "\u001b[32m[I 2021-10-20 18:15:12,244]\u001b[0m Trial 17 pruned. Trial was pruned at iteration 0.\u001b[0m\n",
      "\u001b[32m[I 2021-10-20 18:15:12,310]\u001b[0m Trial 18 pruned. Trial was pruned at iteration 0.\u001b[0m\n",
      "\u001b[32m[I 2021-10-20 18:15:25,251]\u001b[0m Trial 19 finished with value: 0.04711866666666667 and parameters: {'booster': 'gbtree', 'lambda': 0.00032215622129214307, 'alpha': 6.0568036608052805e-06, 'subsample': 0.31554304269918, 'colsample_bytree': 0.6641271296150928, 'learning_rate': 0.025785388940839576, 'max_depth': 20, 'gamma': 0.0008923731809632603, 'min_child_weight': 1.5101060537280584}. Best is trial 7 with value: 0.043972000000000004.\u001b[0m\n",
      "\u001b[32m[I 2021-10-20 18:15:25,316]\u001b[0m Trial 20 pruned. Trial was pruned at iteration 0.\u001b[0m\n",
      "\u001b[32m[I 2021-10-20 18:15:35,824]\u001b[0m Trial 21 finished with value: 0.046239999999999996 and parameters: {'booster': 'gbtree', 'lambda': 0.00015941514807524813, 'alpha': 0.005146732810957028, 'subsample': 0.5723677118641423, 'colsample_bytree': 0.7036582246273456, 'learning_rate': 0.036768627688426134, 'max_depth': 11, 'gamma': 1.408806004331844e-08, 'min_child_weight': 2.1347721541400513}. Best is trial 7 with value: 0.043972000000000004.\u001b[0m\n",
      "\u001b[32m[I 2021-10-20 18:15:47,578]\u001b[0m Trial 22 finished with value: 0.04782333333333333 and parameters: {'booster': 'gbtree', 'lambda': 5.837990518882723e-05, 'alpha': 0.05275895940890194, 'subsample': 0.506704852049065, 'colsample_bytree': 0.8648744093239589, 'learning_rate': 0.03239159271522842, 'max_depth': 15, 'gamma': 1.7146438713039414e-07, 'min_child_weight': 1.8918010881452945}. Best is trial 7 with value: 0.043972000000000004.\u001b[0m\n",
      "\u001b[32m[I 2021-10-20 18:15:54,377]\u001b[0m Trial 23 finished with value: 0.045746666666666665 and parameters: {'booster': 'gbtree', 'lambda': 4.902369584467255e-06, 'alpha': 0.001096550586085436, 'subsample': 0.661030634584993, 'colsample_bytree': 0.731141495996248, 'learning_rate': 0.0465473913564846, 'max_depth': 10, 'gamma': 0.011428804546470068, 'min_child_weight': 1.0360253627982134}. Best is trial 7 with value: 0.043972000000000004.\u001b[0m\n",
      "\u001b[32m[I 2021-10-20 18:16:01,886]\u001b[0m Trial 24 finished with value: 0.047984 and parameters: {'booster': 'gbtree', 'lambda': 5.035906105249941e-06, 'alpha': 4.794125988572578e-05, 'subsample': 0.7845055814716825, 'colsample_bytree': 0.8140920379269172, 'learning_rate': 0.046367699375854866, 'max_depth': 10, 'gamma': 0.011292741358168643, 'min_child_weight': 0.9152812549041222}. Best is trial 7 with value: 0.043972000000000004.\u001b[0m\n",
      "\u001b[32m[I 2021-10-20 18:16:10,679]\u001b[0m Trial 25 finished with value: 0.04491066666666666 and parameters: {'booster': 'gbtree', 'lambda': 2.3514720679484562e-07, 'alpha': 0.0007566105780112893, 'subsample': 0.6726682235015892, 'colsample_bytree': 0.9956645489086109, 'learning_rate': 0.041516209596086096, 'max_depth': 6, 'gamma': 0.12741337856633642, 'min_child_weight': 0.5178699233567301}. Best is trial 7 with value: 0.043972000000000004.\u001b[0m\n",
      "\u001b[32m[I 2021-10-20 18:16:10,744]\u001b[0m Trial 26 pruned. Trial was pruned at iteration 0.\u001b[0m\n",
      "\u001b[32m[I 2021-10-20 18:16:10,834]\u001b[0m Trial 27 pruned. Trial was pruned at iteration 0.\u001b[0m\n",
      "\u001b[32m[I 2021-10-20 18:16:10,898]\u001b[0m Trial 28 pruned. Trial was pruned at iteration 0.\u001b[0m\n",
      "\u001b[32m[I 2021-10-20 18:16:10,977]\u001b[0m Trial 29 pruned. Trial was pruned at iteration 0.\u001b[0m\n",
      "\u001b[32m[I 2021-10-20 18:16:20,072]\u001b[0m Trial 30 finished with value: 0.044554666666666666 and parameters: {'booster': 'gbtree', 'lambda': 8.744292922398972e-07, 'alpha': 8.053159846338737e-08, 'subsample': 0.5333125014971672, 'colsample_bytree': 0.8887232048266618, 'learning_rate': 0.03872629895268714, 'max_depth': 6, 'gamma': 0.005089579016540486, 'min_child_weight': 0.36888568530404175}. Best is trial 7 with value: 0.043972000000000004.\u001b[0m\n",
      "\u001b[32m[I 2021-10-20 18:16:29,016]\u001b[0m Trial 31 finished with value: 0.045047333333333335 and parameters: {'booster': 'gbtree', 'lambda': 6.089831628832353e-07, 'alpha': 1.028454197405394e-07, 'subsample': 0.5549995887060802, 'colsample_bytree': 0.9051398555968987, 'learning_rate': 0.0414501912443408, 'max_depth': 6, 'gamma': 0.0025711730365878096, 'min_child_weight': 0.3466829325007792}. Best is trial 7 with value: 0.043972000000000004.\u001b[0m\n",
      "\u001b[32m[I 2021-10-20 18:16:29,591]\u001b[0m Trial 32 pruned. Trial was pruned at iteration 53.\u001b[0m\n",
      "\u001b[32m[I 2021-10-20 18:16:29,659]\u001b[0m Trial 33 pruned. Trial was pruned at iteration 0.\u001b[0m\n",
      "\u001b[32m[I 2021-10-20 18:16:29,866]\u001b[0m Trial 34 pruned. Trial was pruned at iteration 7.\u001b[0m\n",
      "\u001b[32m[I 2021-10-20 18:16:31,217]\u001b[0m Trial 35 pruned. Trial was pruned at iteration 102.\u001b[0m\n",
      "\u001b[32m[I 2021-10-20 18:16:31,281]\u001b[0m Trial 36 pruned. Trial was pruned at iteration 0.\u001b[0m\n",
      "\u001b[32m[I 2021-10-20 18:16:31,353]\u001b[0m Trial 37 pruned. Trial was pruned at iteration 0.\u001b[0m\n",
      "\u001b[32m[I 2021-10-20 18:16:31,445]\u001b[0m Trial 38 pruned. Trial was pruned at iteration 0.\u001b[0m\n",
      "\u001b[32m[I 2021-10-20 18:21:46,974]\u001b[0m Trial 39 finished with value: 0.04602599999999999 and parameters: {'booster': 'dart', 'lambda': 3.476249066616807e-08, 'alpha': 9.116875239310794e-07, 'subsample': 0.8325933668048587, 'colsample_bytree': 0.8749580141370368, 'learning_rate': 0.03377387135167163, 'max_depth': 7, 'gamma': 0.006259585412457017, 'min_child_weight': 0.4132692309081144, 'sample_type': 'uniform', 'normalize_type': 'tree', 'rate_drop': 1.7233688980594472e-06, 'skip_drop': 6.267349098953295e-06}. Best is trial 7 with value: 0.043972000000000004.\u001b[0m\n",
      "\u001b[32m[I 2021-10-20 18:21:47,056]\u001b[0m Trial 40 pruned. Trial was pruned at iteration 0.\u001b[0m\n",
      "\u001b[32m[I 2021-10-20 18:21:55,625]\u001b[0m Trial 41 finished with value: 0.044674 and parameters: {'booster': 'gbtree', 'lambda': 7.968833889413913e-07, 'alpha': 1.6499215809137783e-07, 'subsample': 0.5445615388778858, 'colsample_bytree': 0.9118171806577227, 'learning_rate': 0.04232225030946798, 'max_depth': 6, 'gamma': 0.001082721240142033, 'min_child_weight': 0.33290447623654984}. Best is trial 7 with value: 0.043972000000000004.\u001b[0m\n",
      "\u001b[32m[I 2021-10-20 18:21:56,347]\u001b[0m Trial 42 pruned. Trial was pruned at iteration 51.\u001b[0m\n",
      "\u001b[32m[I 2021-10-20 18:22:04,481]\u001b[0m Trial 43 finished with value: 0.048045000000000004 and parameters: {'booster': 'gbtree', 'lambda': 2.40933636066863e-07, 'alpha': 5.369633603809702e-08, 'subsample': 0.6217136632321781, 'colsample_bytree': 0.8878261211317083, 'learning_rate': 0.046621268744484586, 'max_depth': 9, 'gamma': 1.0839345606757132e-05, 'min_child_weight': 0.1457500113348361}. Best is trial 7 with value: 0.043972000000000004.\u001b[0m\n",
      "\u001b[32m[I 2021-10-20 18:22:04,552]\u001b[0m Trial 44 pruned. Trial was pruned at iteration 0.\u001b[0m\n",
      "\u001b[32m[I 2021-10-20 18:22:04,615]\u001b[0m Trial 45 pruned. Trial was pruned at iteration 0.\u001b[0m\n",
      "\u001b[32m[I 2021-10-20 18:22:04,680]\u001b[0m Trial 46 pruned. Trial was pruned at iteration 0.\u001b[0m\n",
      "\u001b[32m[I 2021-10-20 18:22:13,802]\u001b[0m Trial 47 finished with value: 0.04365766666666667 and parameters: {'booster': 'gbtree', 'lambda': 0.4719925088395622, 'alpha': 2.1238406713031043e-08, 'subsample': 0.45108052354124617, 'colsample_bytree': 0.7435006145845623, 'learning_rate': 0.04377299597219643, 'max_depth': 7, 'gamma': 0.00013725429067296238, 'min_child_weight': 0.24149772737280517}. Best is trial 47 with value: 0.04365766666666667.\u001b[0m\n",
      "\u001b[32m[I 2021-10-20 18:22:19,691]\u001b[0m Trial 48 finished with value: 0.045195000000000006 and parameters: {'booster': 'gbtree', 'lambda': 0.0036862027161919733, 'alpha': 2.13522381353629e-08, 'subsample': 0.4380921650438175, 'colsample_bytree': 0.666213610948809, 'learning_rate': 0.04963254631822135, 'max_depth': 15, 'gamma': 8.806443430189969e-06, 'min_child_weight': 0.10135493860426208}. Best is trial 47 with value: 0.04365766666666667.\u001b[0m\n",
      "\u001b[32m[I 2021-10-20 18:22:19,761]\u001b[0m Trial 49 pruned. Trial was pruned at iteration 0.\u001b[0m\n",
      "\u001b[32m[I 2021-10-20 18:22:19,833]\u001b[0m Trial 50 pruned. Trial was pruned at iteration 0.\u001b[0m\n",
      "\u001b[32m[I 2021-10-20 18:22:20,514]\u001b[0m Trial 51 pruned. Trial was pruned at iteration 56.\u001b[0m\n",
      "\u001b[32m[I 2021-10-20 18:22:27,972]\u001b[0m Trial 52 finished with value: 0.047669333333333334 and parameters: {'booster': 'gbtree', 'lambda': 1.2464627194726688e-07, 'alpha': 1.1065054657610059e-07, 'subsample': 0.7970501836441208, 'colsample_bytree': 0.8598574824919323, 'learning_rate': 0.0429005107717414, 'max_depth': 8, 'gamma': 0.00016696853035923855, 'min_child_weight': 0.494795599575778}. Best is trial 47 with value: 0.04365766666666667.\u001b[0m\n",
      "\u001b[32m[I 2021-10-20 18:22:28,035]\u001b[0m Trial 53 pruned. Trial was pruned at iteration 0.\u001b[0m\n",
      "\u001b[32m[I 2021-10-20 18:22:28,097]\u001b[0m Trial 54 pruned. Trial was pruned at iteration 0.\u001b[0m\n",
      "\u001b[32m[I 2021-10-20 18:22:28,158]\u001b[0m Trial 55 pruned. Trial was pruned at iteration 0.\u001b[0m\n",
      "\u001b[32m[I 2021-10-20 18:22:28,227]\u001b[0m Trial 56 pruned. Trial was pruned at iteration 0.\u001b[0m\n",
      "\u001b[32m[I 2021-10-20 18:22:28,291]\u001b[0m Trial 57 pruned. Trial was pruned at iteration 0.\u001b[0m\n",
      "\u001b[32m[I 2021-10-20 18:22:28,365]\u001b[0m Trial 58 pruned. Trial was pruned at iteration 0.\u001b[0m\n",
      "\u001b[32m[I 2021-10-20 18:22:28,432]\u001b[0m Trial 59 pruned. Trial was pruned at iteration 0.\u001b[0m\n",
      "\u001b[32m[I 2021-10-20 18:22:35,491]\u001b[0m Trial 60 pruned. Trial was pruned at iteration 308.\u001b[0m\n",
      "\u001b[32m[I 2021-10-20 18:22:37,631]\u001b[0m Trial 61 pruned. Trial was pruned at iteration 145.\u001b[0m\n",
      "\u001b[32m[I 2021-10-20 18:22:45,202]\u001b[0m Trial 62 finished with value: 0.04419499999999999 and parameters: {'booster': 'gbtree', 'lambda': 1.5314883893417035e-08, 'alpha': 2.3356038238099115e-08, 'subsample': 0.6466969753481846, 'colsample_bytree': 0.910159638998815, 'learning_rate': 0.04909281502350264, 'max_depth': 6, 'gamma': 2.48421342506557e-05, 'min_child_weight': 0.29758806701319257}. Best is trial 47 with value: 0.04365766666666667.\u001b[0m\n",
      "\u001b[32m[I 2021-10-20 18:22:52,906]\u001b[0m Trial 63 finished with value: 0.04667966666666667 and parameters: {'booster': 'gbtree', 'lambda': 1.966305049229052e-08, 'alpha': 1.8298509348153513e-08, 'subsample': 0.65062622500631, 'colsample_bytree': 0.8866459352582768, 'learning_rate': 0.04856572391711424, 'max_depth': 8, 'gamma': 1.1346354903878321e-06, 'min_child_weight': 0.2768261283542947}. Best is trial 47 with value: 0.04365766666666667.\u001b[0m\n",
      "\u001b[32m[I 2021-10-20 18:22:52,970]\u001b[0m Trial 64 pruned. Trial was pruned at iteration 0.\u001b[0m\n",
      "\u001b[32m[I 2021-10-20 18:22:53,485]\u001b[0m Trial 65 pruned. Trial was pruned at iteration 38.\u001b[0m\n",
      "\u001b[32m[I 2021-10-20 18:22:53,545]\u001b[0m Trial 66 pruned. Trial was pruned at iteration 0.\u001b[0m\n",
      "\u001b[32m[I 2021-10-20 18:22:53,608]\u001b[0m Trial 67 pruned. Trial was pruned at iteration 0.\u001b[0m\n",
      "\u001b[32m[I 2021-10-20 18:22:53,674]\u001b[0m Trial 68 pruned. Trial was pruned at iteration 0.\u001b[0m\n",
      "\u001b[32m[I 2021-10-20 18:22:53,746]\u001b[0m Trial 69 pruned. Trial was pruned at iteration 0.\u001b[0m\n",
      "\u001b[32m[I 2021-10-20 18:22:53,818]\u001b[0m Trial 70 pruned. Trial was pruned at iteration 0.\u001b[0m\n",
      "\u001b[32m[I 2021-10-20 18:22:55,214]\u001b[0m Trial 71 pruned. Trial was pruned at iteration 86.\u001b[0m\n",
      "\u001b[32m[I 2021-10-20 18:22:58,016]\u001b[0m Trial 72 pruned. Trial was pruned at iteration 189.\u001b[0m\n",
      "\u001b[32m[I 2021-10-20 18:22:58,867]\u001b[0m Trial 73 pruned. Trial was pruned at iteration 66.\u001b[0m\n",
      "\u001b[32m[I 2021-10-20 18:22:58,937]\u001b[0m Trial 74 pruned. Trial was pruned at iteration 0.\u001b[0m\n",
      "\u001b[32m[I 2021-10-20 18:22:59,007]\u001b[0m Trial 75 pruned. Trial was pruned at iteration 0.\u001b[0m\n",
      "\u001b[32m[I 2021-10-20 18:22:59,082]\u001b[0m Trial 76 pruned. Trial was pruned at iteration 0.\u001b[0m\n",
      "\u001b[32m[I 2021-10-20 18:23:08,514]\u001b[0m Trial 77 finished with value: 0.046147999999999995 and parameters: {'booster': 'gbtree', 'lambda': 5.263262411897638e-07, 'alpha': 1.4175742166841358e-08, 'subsample': 0.674493914973046, 'colsample_bytree': 0.8453961776961952, 'learning_rate': 0.03944800481586623, 'max_depth': 8, 'gamma': 0.012974558498716936, 'min_child_weight': 0.8991009283070138}. Best is trial 47 with value: 0.04365766666666667.\u001b[0m\n",
      "\u001b[32m[I 2021-10-20 18:23:08,596]\u001b[0m Trial 78 pruned. Trial was pruned at iteration 0.\u001b[0m\n",
      "\u001b[32m[I 2021-10-20 18:23:08,663]\u001b[0m Trial 79 pruned. Trial was pruned at iteration 0.\u001b[0m\n",
      "\u001b[32m[I 2021-10-20 18:23:08,733]\u001b[0m Trial 80 pruned. Trial was pruned at iteration 0.\u001b[0m\n",
      "\u001b[32m[I 2021-10-20 18:23:16,139]\u001b[0m Trial 81 finished with value: 0.04528000000000001 and parameters: {'booster': 'gbtree', 'lambda': 0.06745367994864251, 'alpha': 2.0666610640421187e-08, 'subsample': 0.42470338490437154, 'colsample_bytree': 0.6774251275716666, 'learning_rate': 0.04927430098749294, 'max_depth': 18, 'gamma': 9.053878949372535e-06, 'min_child_weight': 1.0441168955328959}. Best is trial 47 with value: 0.04365766666666667.\u001b[0m\n",
      "\u001b[32m[I 2021-10-20 18:23:16,215]\u001b[0m Trial 82 pruned. Trial was pruned at iteration 0.\u001b[0m\n",
      "\u001b[32m[I 2021-10-20 18:23:18,098]\u001b[0m Trial 83 pruned. Trial was pruned at iteration 74.\u001b[0m\n",
      "\u001b[32m[I 2021-10-20 18:23:24,355]\u001b[0m Trial 84 finished with value: 0.043923333333333335 and parameters: {'booster': 'gbtree', 'lambda': 0.03375303016749217, 'alpha': 2.4018205208607814e-07, 'subsample': 0.38406339659705874, 'colsample_bytree': 0.7254518601723808, 'learning_rate': 0.0445932232509879, 'max_depth': 7, 'gamma': 1.1368604342745637e-06, 'min_child_weight': 0.38266426439093776}. Best is trial 47 with value: 0.04365766666666667.\u001b[0m\n",
      "\u001b[32m[I 2021-10-20 18:23:24,660]\u001b[0m Trial 85 pruned. Trial was pruned at iteration 21.\u001b[0m\n",
      "\u001b[32m[I 2021-10-20 18:23:24,729]\u001b[0m Trial 86 pruned. Trial was pruned at iteration 0.\u001b[0m\n",
      "\u001b[32m[I 2021-10-20 18:23:24,797]\u001b[0m Trial 87 pruned. Trial was pruned at iteration 0.\u001b[0m\n",
      "\u001b[32m[I 2021-10-20 18:23:24,863]\u001b[0m Trial 88 pruned. Trial was pruned at iteration 0.\u001b[0m\n",
      "\u001b[32m[I 2021-10-20 18:23:24,931]\u001b[0m Trial 89 pruned. Trial was pruned at iteration 0.\u001b[0m\n",
      "\u001b[32m[I 2021-10-20 18:23:25,010]\u001b[0m Trial 90 pruned. Trial was pruned at iteration 0.\u001b[0m\n",
      "\u001b[32m[I 2021-10-20 18:23:32,353]\u001b[0m Trial 91 finished with value: 0.045107 and parameters: {'booster': 'gbtree', 'lambda': 0.004417542458142423, 'alpha': 5.776046311560994e-08, 'subsample': 0.3969479868241201, 'colsample_bytree': 0.6339971943642767, 'learning_rate': 0.04599382852042838, 'max_depth': 15, 'gamma': 2.586489981675004e-07, 'min_child_weight': 0.1062901433948497}. Best is trial 47 with value: 0.04365766666666667.\u001b[0m\n",
      "\u001b[32m[I 2021-10-20 18:23:42,201]\u001b[0m Trial 92 finished with value: 0.04279566666666667 and parameters: {'booster': 'gbtree', 'lambda': 0.8510980791355207, 'alpha': 5.887029350317066e-08, 'subsample': 0.6131070998395973, 'colsample_bytree': 0.6900176269350642, 'learning_rate': 0.04334524528572498, 'max_depth': 8, 'gamma': 4.2724632731185067e-07, 'min_child_weight': 0.18379329253685098}. Best is trial 92 with value: 0.04279566666666667.\u001b[0m\n",
      "\u001b[32m[I 2021-10-20 18:23:42,348]\u001b[0m Trial 93 pruned. Trial was pruned at iteration 5.\u001b[0m\n",
      "\u001b[32m[I 2021-10-20 18:23:42,416]\u001b[0m Trial 94 pruned. Trial was pruned at iteration 0.\u001b[0m\n",
      "\u001b[32m[I 2021-10-20 18:23:42,485]\u001b[0m Trial 95 pruned. Trial was pruned at iteration 0.\u001b[0m\n",
      "\u001b[32m[I 2021-10-20 18:23:42,548]\u001b[0m Trial 96 pruned. Trial was pruned at iteration 0.\u001b[0m\n",
      "\u001b[32m[I 2021-10-20 18:23:42,621]\u001b[0m Trial 97 pruned. Trial was pruned at iteration 0.\u001b[0m\n",
      "\u001b[32m[I 2021-10-20 18:23:42,693]\u001b[0m Trial 98 pruned. Trial was pruned at iteration 0.\u001b[0m\n",
      "\u001b[32m[I 2021-10-20 18:23:42,761]\u001b[0m Trial 99 pruned. Trial was pruned at iteration 0.\u001b[0m\n"
     ]
    }
   ],
   "source": [
    "study = optuna.create_study(direction='minimize')\n",
    "study.optimize(objective, n_trials=100)"
   ]
  },
  {
   "cell_type": "code",
   "execution_count": 43,
   "metadata": {},
   "outputs": [
    {
     "name": "stdout",
     "output_type": "stream",
     "text": [
      "{'booster': 'gbtree', 'lambda': 0.8510980791355207, 'alpha': 5.887029350317066e-08, 'subsample': 0.6131070998395973, 'colsample_bytree': 0.6900176269350642, 'learning_rate': 0.04334524528572498, 'max_depth': 8, 'gamma': 4.2724632731185067e-07, 'min_child_weight': 0.18379329253685098}\n"
     ]
    }
   ],
   "source": [
    "print(study.best_params)"
   ]
  },
  {
   "cell_type": "code",
   "execution_count": null,
   "metadata": {},
   "outputs": [],
   "source": []
  }
 ],
 "metadata": {
  "kernelspec": {
   "display_name": "Python 3",
   "language": "python",
   "name": "python3"
  },
  "language_info": {
   "codemirror_mode": {
    "name": "ipython",
    "version": 3
   },
   "file_extension": ".py",
   "mimetype": "text/x-python",
   "name": "python",
   "nbconvert_exporter": "python",
   "pygments_lexer": "ipython3",
   "version": "3.8.5"
  }
 },
 "nbformat": 4,
 "nbformat_minor": 4
}
